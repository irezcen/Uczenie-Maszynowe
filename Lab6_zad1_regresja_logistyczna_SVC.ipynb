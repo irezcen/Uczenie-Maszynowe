{
 "cells": [
  {
   "cell_type": "markdown",
   "metadata": {},
   "source": [
    "W tym zadaniu zapoznamy się z pojęciem modeli regresyjnych oraz ich przykładami w Pythonie. Dodatkowo będziemy zajmować się optymalizacją modeli.\n",
    "\n",
    "Będziemy pracować na danych dotyczących rodzajów fonacji i będziemy analizować dane, które zawierają 13 MFCC oraz ich pierwszą i drugą pochodną wyliczone z sygnałów zawierających samogłoski emitowane przy użyciu dwóch typów fonacji:\n",
    "1. z nastawieniem miękkim - więzadła głosowe zbliżają się do siebie, a ich przyśrodkowe krawędzie swobodnie drgają\n",
    "2. z nastawieniem twardym - powstaje przy silnym zwarciu więzadeł głosowych\n",
    "\n",
    "Rodzaje te są oznaczone odpowiednio labelami 0 i 1.\n",
    "\n",
    "Źródło danych: https://osf.io/cwquj/"
   ]
  },
  {
   "cell_type": "code",
   "execution_count": 28,
   "metadata": {},
   "outputs": [],
   "source": [
    "import numpy as np\n",
    "from sklearn.linear_model import LogisticRegression\n",
    "from sklearn.metrics import roc_auc_score, roc_curve, auc, precision_recall_curve, make_scorer, confusion_matrix, log_loss, accuracy_score\n",
    "from sklearn.pipeline import make_pipeline\n",
    "from sklearn.preprocessing import StandardScaler\n",
    "from sklearn.model_selection import train_test_split\n",
    "import matplotlib.pyplot as plt\n",
    "from sklearn.svm import SVC\n",
    "import optuna\n",
    "from sklearn.model_selection import cross_validate, StratifiedKFold\n",
    "import pickle"
   ]
  },
  {
   "cell_type": "code",
   "execution_count": 29,
   "metadata": {},
   "outputs": [
    {
     "name": "stdout",
     "output_type": "stream",
     "text": [
      "[0 0 1 1 0 0 0 0 0 0 1 0 0 1 0 1 0 0 1 1 0 0 0 1 1 1 1 0 0 1 1 0 1 0 1 0 0\n",
      " 0 0 0 0 0 0 0 0 1 0 0 0 0 1 1 0 1 1 0 0 1 1 1 0 1 0 1 0 1 0 1 0 0 0 0 0 1\n",
      " 0 0 0 0 1 1 0 0 1 0 1 0 0 1 1 0 0 0 1 0 1 1 1 1 0 1 0 0 0 0 0 0 0 0 0 0 1\n",
      " 0 1 0 1 1 1 1 0 1 1 1 0 0 1 0 1 0 1 0 0 1 0 1 0 0 0 0 1 0 0 0 0 0 1 1 0 1\n",
      " 0 1 1 1 0 1 0 0 0 0 0 1 0 1 0 1 1 0 0 0 0 0 0 1 0 1 0 1 0 0 0 1 0 0 0 1 0\n",
      " 1 0 0 0 0 0 0 1 1 0 1 1 0 0 0 0 0 1 1 0 0 1 0 1 0 1 1 0 1 1 0 1 1 0 0 1 1\n",
      " 0 0 1 1 1 1 0 0 1 0 1 1 0 1 0 1 1 0 0 0 0 0 0 0 0 0 0 0 0 1 1 0 1 1 1 0 1\n",
      " 1 0 0 0 0 1 0 0 0 0 0 0 1 0 0 1 0 0 1 1 0 1 0 0 0 0 0 0 1 0 0 0 0 0 0 0 0\n",
      " 0 0 0 0 1 1 1 1 0 0 0 1 1 0 1 0 0 1 1 1 0 0 1 0 1 0 0 1 0 1 0 0 0 0 0 1 0\n",
      " 0 0 0 0 0 0 0 0 1 0 1 0 1 0 0 1 1 1 1 0 1 1 0 0 1 1 0 0 0 0 1 0 1 0 0 0 1\n",
      " 0]\n"
     ]
    }
   ],
   "source": [
    "#wczytanie danych\n",
    "X = np.load('padded_feats_binary.npy') #macierz cech - jednej wiersz = jeden obiekt\n",
    "y = np.load('labels_binary.npy') #labele\n",
    "print(y)"
   ]
  },
  {
   "cell_type": "code",
   "execution_count": 30,
   "metadata": {},
   "outputs": [],
   "source": [
    "X_train, X_test, y_train, y_test = train_test_split(X, y, stratify=y, random_state=42) #podział na zbiory"
   ]
  },
  {
   "cell_type": "code",
   "execution_count": 31,
   "metadata": {},
   "outputs": [],
   "source": [
    "scaler = StandardScaler().fit(X_train) #standaryzacja\n",
    "X_train_scaled = scaler.transform(X_train)\n",
    "X_test_scaled = scaler.transform(X_test)"
   ]
  },
  {
   "cell_type": "markdown",
   "metadata": {},
   "source": [
    "Modele regresyjne różnią się od modeli klasyfikacyjnych przede wszystkim tym, co uzyskujemy na wyjściu. Modele klasyfikacyjne (klasyfikatory) zwracają przewidywaną przynależność obiektu do klasy, czyli liczbę całkowitą. Natomiast modele regresyjne (regresory) zwracają wartości ciągłe - może, ale nie musi to być liczba całkowita. Wyniki nie mogą być traktowane bezpośrednio jako przynależność do klas - jeżeli chcemy je do tego wykorzystać, konieczne jest przetworzenie wyników. Jak to zrobić, omówimy w dalszej części zadania.\n",
    "\n",
    "Pierwszą metodą regresji, której użyjemy jest regresja logistyczna.\n",
    "\n",
    "Regresja logistyczna prognozuje prawdopodobieństwo wystąpienia zjawiska jako funkcję zmiennych niezależnych. Prawdopodobieństwo to jest opisane funkcją logistyczną, czyli rodzajem funkcji sigmoidalnej - stąd nazwa regresji. W kontekście klasyfikacji można powiedzieć, że regresja logistyczna prognozuje prawdopodobieństwo przynależności obiektu do danej klasy."
   ]
  },
  {
   "cell_type": "code",
   "execution_count": 32,
   "metadata": {},
   "outputs": [],
   "source": [
    "lr_reg = LogisticRegression(random_state=42)\n",
    "lr_reg.fit(X_train_scaled, y_train)\n",
    "preds_test = lr_reg.predict(X_test_scaled)\n",
    "preds_train = lr_reg.predict(X_train_scaled)"
   ]
  },
  {
   "cell_type": "markdown",
   "metadata": {},
   "source": [
    "Z regresją logistyczną związane jest pojęcie straty logarytmicznej (ang. log loss). Oblicza się ją jako ujemną średnią logarytmiczną skorygowanych prawdopodobieństw. Polega to na tym, że otrzymujemy na wyjściu regresora prawdopodobieństwo przynależności obiektu do klasy pozytywnej (1). Prawdopodobieństwo skorygowane oblicza się tak:\n",
    "\n",
    "- jeżeli obiekt należy do klasy 1, to prawdopodobieństwo skorygowane wynosi tyle, ile wyznaczone przez regresor (pred),\n",
    "\n",
    "- jeżeli obiekt należy do klasy 0, to prawdopodobieństwo skorygowane wynosi 1-pred.\n",
    "\n",
    "Ponieważ prawdopodobieństwo przyjmuje wartości z przedziału [0,1], to jego logarytm będzie miał wartość ujemną. Dlatego po policzeniu średniej z logarytmów dodajemy znak '-', żeby uzyskać stratę logarytmiczną o wartości dodatniej. Wtedy im mniejsza strata logarytmiczna, tym predykcje modelu bliższe są wartości rzeczywistej."
   ]
  },
  {
   "cell_type": "code",
   "execution_count": 33,
   "metadata": {},
   "outputs": [
    {
     "name": "stdout",
     "output_type": "stream",
     "text": [
      "0.7427779826586198\n"
     ]
    }
   ],
   "source": [
    "print(log_loss(y_test, preds_test))"
   ]
  },
  {
   "cell_type": "markdown",
   "metadata": {},
   "source": [
    "Dla porównania możemy to policzyć ręcznie zgodnie z algorytmem opisanym powyżej."
   ]
  },
  {
   "cell_type": "code",
   "execution_count": 34,
   "metadata": {},
   "outputs": [
    {
     "name": "stdout",
     "output_type": "stream",
     "text": [
      "0.742769384836788\n"
     ]
    }
   ],
   "source": [
    "corrected_prob = []\n",
    "for y_pred, y_true in zip(preds_test, y_test):\n",
    "    if y_true == 0:\n",
    "        corrected_prob.append(1-y_pred)\n",
    "    else:\n",
    "        corrected_prob.append(y_pred)\n",
    "        \n",
    "corrected_prob = np.array(corrected_prob)\n",
    "log_prob = np.log(corrected_prob + 1e-15)\n",
    "logloss = -(np.mean(log_prob))\n",
    "print(logloss)"
   ]
  },
  {
   "cell_type": "markdown",
   "metadata": {},
   "source": [
    "Oprócz straty logarytmicznej, do oceny jakości regresora używa się często metryki ROC AUC, czyli pola pod krzywą ROC.\n",
    "\n",
    "Na początek omówmy, czym jest krzywa ROC i jak wygląda. Krzywa ROC przedstawia zdolności diagnostyczne modelu w zależności od przyjętego progu dyskryminacyjnego. Na osi X jest FPR (1-specyficzność), natomiast na osi Y TPR (czułość). W najlepszym przypadku krzywa ROC powinna rosnąć od 0 do 1 w punkcie x=0, a następnie przebiegać równolegle do osi X. Im bardziej uzyskana krzywa różni się od takiego przebiegu, tym gorszy model.\n",
    "\n",
    "Teraz narysujemy krzywą ROC uzyskanego modelu. Dodatkowo na wykresie zaznaczymy przypadek oznaczający losowe wyniki zwracane przez model (przerywana niebieska linia)."
   ]
  },
  {
   "cell_type": "code",
   "execution_count": 35,
   "metadata": {
    "scrolled": true
   },
   "outputs": [],
   "source": [
    "def plot_roc_curve(y, preds, image_path=None):\n",
    "\n",
    "    fpr, tpr, thresholds = roc_curve(y, preds)\n",
    "    # plot the roc curve for the model\n",
    "    try:\n",
    "        plt.plot([0,1], [0,1], linestyle='--', label='No Skill')\n",
    "        plt.plot(fpr, tpr, marker='.', label='Model')\n",
    "        # axis labels\n",
    "        plt.xlabel('False Positive Rate')\n",
    "        plt.ylabel('True Positive Rate')\n",
    "        plt.legend()\n",
    "#         plt.savefig(image_path, dpi = 300)   # save the figure to file    \n",
    "    except (IndexError):\n",
    "        print('Next model')"
   ]
  },
  {
   "cell_type": "code",
   "execution_count": 36,
   "metadata": {
    "scrolled": true
   },
   "outputs": [
    {
     "data": {
      "image/png": "[encoded data removed]",
      "text/plain": [
       "<Figure size 432x288 with 1 Axes>"
      ]
     },
     "metadata": {
      "needs_background": "light"
     },
     "output_type": "display_data"
    }
   ],
   "source": [
    "plot_roc_curve(y_test, preds_test, image_path=None)"
   ]
  },
  {
   "cell_type": "markdown",
   "metadata": {},
   "source": [
    "W indealnym przypadku ROC AUC wynosi 1. Jeżeli wynosi 0.5, to utworzony model regresyjny dokonuje predykcji w sposób losowy (prawdopodobieństwo przynależności do klasy 0 wynosi 0.5, do klasy 1 również 0.5). Taki model nie nadaje się do użytku.\n",
    "\n",
    "Uzyskanie ROC AUC = 1 jest w przypadku danych rzeczywistych bardzo trudne i nie zawsze jest możliwe. Dążymy jednak do tego, by jego wartość była jak największa."
   ]
  },
  {
   "cell_type": "code",
   "execution_count": 37,
   "metadata": {},
   "outputs": [
    {
     "name": "stdout",
     "output_type": "stream",
     "text": [
      "test ROC AUC:  0.9770935960591133\n"
     ]
    }
   ],
   "source": [
    "print('test ROC AUC: ', roc_auc_score(y_test, preds_test))"
   ]
  },
  {
   "cell_type": "markdown",
   "metadata": {},
   "source": [
    "Regresory zazwyczaj zwracają predyckje ciągłe, a więc nie można z takich wyników wyliczyć metryk sukcesu. Żeby to zrobić, należy zamienić predykcje na liczby całkowite oznaczające przynależność do klas. Oznacza to, że trzeba przyjąć próg, poniżej którego będą wartości oznaczające przyporządkowanie do klasy 0, a pozostałe do klasy 1. Są różne metody wyznaczania takiego progu - my przyjmiemy wartość, która będzie wyznaczona jako największa średnia geometryczna TPR i (1-FPR) dla całego zbioru danych (poniżej wykres z zaznaczonym progiem, żeby łatwiej było sobie wyobrazić, o który dokładnie punkt chodzi)."
   ]
  },
  {
   "cell_type": "code",
   "execution_count": 38,
   "metadata": {},
   "outputs": [
    {
     "name": "stdout",
     "output_type": "stream",
     "text": [
      "Best Threshold=1.000000, G-Mean=0.994\n"
     ]
    },
    {
     "data": {
      "image/png": "[encoded data removed]",
      "text/plain": [
       "<Figure size 432x288 with 1 Axes>"
      ]
     },
     "metadata": {
      "needs_background": "light"
     },
     "output_type": "display_data"
    }
   ],
   "source": [
    "fpr, tpr, thresholds = roc_curve(np.append(y_train, y_test), np.append(preds_train, preds_test), pos_label=1)\n",
    "gmeans = np.sqrt(tpr * (1-fpr)) #średnie geometryczne wyznaczone dla każdego punktu na krzywej ROC\n",
    "ix = np.argmax(gmeans)\n",
    "print('Best Threshold=%f, G-Mean=%.3f' % (thresholds[ix], gmeans[ix])) #G-Mean - największa średnia geometryczna\n",
    "plt.plot([0,1], [0,1], linestyle='--', label='No Skill')\n",
    "plt.plot(fpr, tpr, marker='.', label='Model')\n",
    "plt.scatter(fpr[ix], tpr[ix], marker='o', color='black', label='Best_gmean')\n",
    "plt.xlabel('False Positive Rate')\n",
    "plt.ylabel('True Positive Rate')\n",
    "plt.legend()\n",
    "plt.show()"
   ]
  },
  {
   "cell_type": "code",
   "execution_count": 39,
   "metadata": {},
   "outputs": [],
   "source": [
    "def get_threshold(y_train, y_test, train_preds, test_preds):\n",
    "    y = np.append(y_train, y_test)\n",
    "    preds = np.append(train_preds, test_preds)\n",
    "    fpr, tpr, thresholds = roc_curve(y, preds)\n",
    "    gmeans = np.sqrt(tpr * (1-fpr))\n",
    "    ix = np.argmax(gmeans)\n",
    "    print('Best Threshold=%f' % thresholds[ix])\n",
    "    return thresholds[ix]"
   ]
  },
  {
   "cell_type": "code",
   "execution_count": 40,
   "metadata": {
    "scrolled": true
   },
   "outputs": [
    {
     "name": "stdout",
     "output_type": "stream",
     "text": [
      "Best Threshold=1.000000\n"
     ]
    }
   ],
   "source": [
    "threshold_gmean = get_threshold(y_train, y_test, preds_train, preds_test)"
   ]
  },
  {
   "cell_type": "markdown",
   "metadata": {},
   "source": [
    "W tym przypadku regresja logistyczna zwróciła predykcje dyskretne, będące równocześnie przyporządkowaniem do klas (co nie zdaża się zbyt często). Wartość wyznaczonego progu wynosi 1, czyli wszystkie predykcje <1 oznaczają klase 0, a predykcja = 1 oznacza klasę 1.\n",
    "\n",
    "W kolejnym przykładzie lepiej będzie widać, po co wyznacza się progi i jak zazwyczaj wyglądają predykcje zwaracane przez regresory.\n",
    "\n",
    "Teraz przeprowadzimy podobną analizę przy użyciu klasyfikatora opartego o maszynę wektorów nośnych (ang. support vector machine, SVM). SVM umożliwia klasyfikację również wtedy, gdy dane nie są liniowo separowalne. Wykorzystywana jest do tego tzw. funkcja jądra (ang. kernel), dzięki której dokonywane jest mapowanie danych na przestrzeń o wymiarze o jeden większym, gdzie już są (lub przynajmniej powinny być) liniowo separowalne. Co więcej, SVM dąży nie  tylko do rozdzielenia danych należących do różnych klas, ale też zrobienia tego z możliwie dużym marginesem zaufania. O tym, jak wysoka jest kara, która jest następstwem złej klasyfikacji obiektu oraz jak duży jest margines informuje parametr C (im mniejsze C tym bardziej uogólniony\n",
    "model i większy margines).\n",
    "\n",
    "\n",
    "Ponieważ chcemy wyznaczyć krzywą ROC i ROC AUC, zamiast predict użyjemy predict_proba, które zwróci prawdopodobieństwo przynależności do klas."
   ]
  },
  {
   "cell_type": "code",
   "execution_count": 41,
   "metadata": {},
   "outputs": [
    {
     "name": "stdout",
     "output_type": "stream",
     "text": [
      "test ROC AUC:  0.9467980295566503\n"
     ]
    }
   ],
   "source": [
    "SVM = SVC(C=1.0, random_state=42, probability=True) #probability=True pozwala potem użyć metody predict_proba\n",
    "SVM.fit(X_train, y_train)\n",
    "SVM_test_preds = SVM.predict_proba(X_test)\n",
    "SVM_train_preds = SVM.predict_proba(X_train)\n",
    "print('test ROC AUC: ', roc_auc_score(y_test, SVM_test_preds[:,1])) \n",
    "#predict_proba zwraca macierz z prawdopodobieństwiem przynależności do każdej analizowanej klasy\n",
    "#nas interesuje klasa 1, więc bierzemy kolumnę 1, w której są odpowiednie prawdopodobieństwa"
   ]
  },
  {
   "cell_type": "code",
   "execution_count": 42,
   "metadata": {},
   "outputs": [
    {
     "name": "stdout",
     "output_type": "stream",
     "text": [
      "Best Threshold=0.115326\n"
     ]
    },
    {
     "data": {
      "image/png": "[encoded data removed]",
      "text/plain": [
       "<Figure size 432x288 with 1 Axes>"
      ]
     },
     "metadata": {
      "needs_background": "light"
     },
     "output_type": "display_data"
    }
   ],
   "source": [
    "plot_roc_curve(y_test, SVM_test_preds[:,1], image_path=None)\n",
    "threshold_gmean = get_threshold(y_train, y_test, SVM_train_preds[:,1], SVM_test_preds[:,1])"
   ]
  },
  {
   "cell_type": "code",
   "execution_count": 43,
   "metadata": {
    "scrolled": true
   },
   "outputs": [
    {
     "name": "stdout",
     "output_type": "stream",
     "text": [
      "[0.8673091  0.08990218 0.89986073 0.08833518 0.12792291 0.2729154\n",
      " 0.47381646 0.88768739 0.90491228 0.67377971 0.09009891 0.22120201\n",
      " 0.55688546 0.06750794 0.08270912 0.09157163 0.89782078 0.0914677\n",
      " 0.69011796 0.88798979 0.15002751 0.09405814 0.89247204 0.8782327\n",
      " 0.09303848 0.8854262  0.099784   0.27284703 0.29588884 0.89355479\n",
      " 0.88792922 0.37085513 0.08847481 0.88295772 0.09957648 0.87862114\n",
      " 0.1075019  0.86626536 0.08679635 0.08486245 0.10497561 0.89506888\n",
      " 0.86286669 0.13159311 0.09014849 0.57481102 0.07489649 0.08439307\n",
      " 0.08982333 0.09075878 0.08681443 0.86994568 0.66545788 0.07592157\n",
      " 0.08246977 0.902936   0.65796985 0.08930096 0.89148639 0.08448337\n",
      " 0.0897108  0.12032434 0.08091179 0.08206696 0.29414722 0.88817915\n",
      " 0.09872036 0.68661184 0.081904   0.73828659 0.08962644 0.89385266\n",
      " 0.07755343 0.80436056 0.08036457 0.08376307 0.75226672 0.07820908\n",
      " 0.88628188 0.88400883 0.12232487 0.88495377 0.09975117 0.87122877\n",
      " 0.09441307 0.09374822 0.85453526 0.06914251 0.28503296 0.08618846\n",
      " 0.07252331 0.08009064 0.09761197]\n"
     ]
    }
   ],
   "source": [
    "print(SVM_test_preds[:,1])"
   ]
  },
  {
   "cell_type": "markdown",
   "metadata": {},
   "source": [
    "Jak widać, tym razem otrzymaliśmy wartości, które nie są dyskretne i nie da się na ich podstawie od razu stwierdzić, do której klasy mogą przynależeć analizowane obiekty. Dlatego trzeba odpowiednio przeliczyć je na klasy korzystając z wyznaczonej wartości progu. Uzyskane w ten sposób wyniki można wykorzystać np. do narysowania macierzy pomyłek."
   ]
  },
  {
   "cell_type": "code",
   "execution_count": 44,
   "metadata": {
    "scrolled": true
   },
   "outputs": [
    {
     "name": "stdout",
     "output_type": "stream",
     "text": [
      "[[44 14]\n",
      " [ 0 35]]\n",
      "0.8494623655913979\n"
     ]
    }
   ],
   "source": [
    "boolean_SVM_test_preds = SVM_test_preds[:,1] > threshold_gmean\n",
    "print(confusion_matrix(y_test, boolean_SVM_test_preds))\n",
    "print(accuracy_score(y_test, boolean_SVM_test_preds))"
   ]
  },
  {
   "cell_type": "markdown",
   "metadata": {},
   "source": [
    "Zobacz, jak wyniki będą zmieniać się w zależności od dobranego progu - wybierz kilka losowych wartości z przedziału [0,1] i wyznacz macierze pomyłek lub wybraną metrykę, np. dokładność (accuracy) lub czułość (recall)."
   ]
  },
  {
   "cell_type": "code",
   "execution_count": 45,
   "metadata": {},
   "outputs": [
    {
     "name": "stdout",
     "output_type": "stream",
     "text": [
      "[[44 14]\n",
      " [ 0 35]]\n",
      "0.8494623655913979\n"
     ]
    }
   ],
   "source": [
    "boolean_SVM_test_preds = SVM_test_preds[:,1] > threshold_gmean\n",
    "print(confusion_matrix(y_test, boolean_SVM_test_preds))\n",
    "print(accuracy_score(y_test, boolean_SVM_test_preds))"
   ]
  },
  {
   "cell_type": "markdown",
   "metadata": {},
   "source": [
    "Porównaj wyniki uzyskane przez progowanie wartości prawdopodobieństwa z tymi, które uzyskuje się prowadząc klasyfikację metodą predict. Czy są takie same?"
   ]
  },
  {
   "cell_type": "code",
   "execution_count": 46,
   "metadata": {},
   "outputs": [
    {
     "name": "stdout",
     "output_type": "stream",
     "text": [
      "[[50  8]\n",
      " [ 6 29]]\n",
      "0.8494623655913979\n"
     ]
    }
   ],
   "source": [
    "SVM_test_preds2 = SVM.predict(X_test)\n",
    "print(confusion_matrix(y_test, SVM_test_preds2))\n",
    "print(accuracy_score(y_test, SVM_test_preds2))"
   ]
  },
  {
   "cell_type": "markdown",
   "metadata": {},
   "source": [
    "Do tej pory preprocessing, np. standaryzację danych wykonywaliśmy przed tworzeniem i uczeniem modelu. Takie podejście może jednak prowadzić do błędów i niedopatrzeń - jeżeli będziemy chcieli w przyszłości wykorzystać zapisany model trzeba będzie pamiętać o takim samym przygotowaniu danych. Np. powyżej nie ustandaryzowaliśmy danych, co może negatywnie wpływać na uzyskane wyniki.\n",
    "\n",
    "Zamiast osobnego przetwarzania danych można utworzyć tzw. pipeline. W pipeline'ie zapisany jest nie tylko sam model, ale też inne elementy, w tym właśnie przetwarzanie danych lub redukcja wymiarowości. Do pipeline'u podajemy nieprzetworzone dane, a preprocessing następuje automatycznie w taki sposób, jak został zadeklarowany na etapie przygotowania modelu."
   ]
  },
  {
   "cell_type": "code",
   "execution_count": 47,
   "metadata": {},
   "outputs": [
    {
     "name": "stdout",
     "output_type": "stream",
     "text": [
      "test ROC AUC:  0.9921182266009851\n"
     ]
    }
   ],
   "source": [
    "#tworzymy pipeline, który składa się z StandardScalera, który standaryzuje dane oraz modelu SVC\n",
    "SVM = make_pipeline(StandardScaler(), SVC(C=1.0, random_state=42, probability=True))\n",
    "SVM.fit(X_train, y_train) #uczenie modelu\n",
    "SVM_test_preds = SVM.predict_proba(X_test)\n",
    "SVM_train_preds = SVM.predict_proba(X_train)\n",
    "print('test ROC AUC: ', roc_auc_score(y_test, SVM_test_preds[:,1]))"
   ]
  },
  {
   "cell_type": "code",
   "execution_count": 48,
   "metadata": {
    "scrolled": true
   },
   "outputs": [
    {
     "name": "stdout",
     "output_type": "stream",
     "text": [
      "Best Threshold=0.334563\n"
     ]
    },
    {
     "data": {
      "image/png": "[encoded data removed]",
      "text/plain": [
       "<Figure size 432x288 with 1 Axes>"
      ]
     },
     "metadata": {
      "needs_background": "light"
     },
     "output_type": "display_data"
    }
   ],
   "source": [
    "plot_roc_curve(y_test, SVM_test_preds[:,1], image_path=None)\n",
    "threshold_gmean = get_threshold(y_train, y_test, SVM_train_preds[:,1], SVM_test_preds[:,1])"
   ]
  },
  {
   "cell_type": "markdown",
   "metadata": {},
   "source": [
    "Dotychczas wszystkie modele tworzyliśmy w taki sposób, że samodzielnie dobieraliśmy wartości hiperparametrów. Zazwyczaj było to robione w sposób losowy.\n",
    "\n",
    "W praktyce powinno się dobierać wartości hiperparametrów na drodze optymalizacji. Poniżej przykład jak zrobić to przy użyciu pakietu Optuna.\n",
    "\n",
    "Najpierw należy zdefiniować, jaka metryka będzie służyła do oceny tego, który model (z jakimi hiperparametrami) jest lepszy. W przypadku modeli regresyjnych używanych do klasyfikacji jest zazwyczaj to ROC AUC lub log loss (w przypadku regresorów dopasowywanych do danych ciągłych najczęściej jest to MSE - mean squared error lub MAE - mean absolute error, patrz zad. 3). My będziemy wykorzystywać ROC AUC."
   ]
  },
  {
   "cell_type": "code",
   "execution_count": 49,
   "metadata": {},
   "outputs": [],
   "source": [
    "scoring = {'roc_macro': make_scorer(roc_auc_score, average='macro')}"
   ]
  },
  {
   "cell_type": "markdown",
   "metadata": {},
   "source": [
    "Następnie należy zdefiniować objective, czyli funkcję celu. Do niej podawany jest model, liczba prób wykonywana podczas całego procesu optymalizacji (losowań wartości hiperparametrów), hiperparametry, które będą optymalizowane oraz dane uczące."
   ]
  },
  {
   "cell_type": "code",
   "execution_count": 50,
   "metadata": {},
   "outputs": [],
   "source": [
    "def objective(trial, model, get_space, X, y):\n",
    "    model_space = get_space(trial)\n",
    "\n",
    "    mdl = model(**model_space)\n",
    "    scores = cross_validate(mdl, X, y, scoring=scoring, cv=StratifiedKFold(n_splits=5), return_train_score=True)\n",
    "\n",
    "    return np.mean(scores['test_roc_macro'])"
   ]
  },
  {
   "cell_type": "markdown",
   "metadata": {},
   "source": [
    "W powyższej funkcji celu korzystamy z walidacji krzyżowej (cross-validation). Do tej pory wykonywaliśmy walidację prostą - dane były dzielone na zbiór uczący i testowy, a model ocenialiśmy tylko na podstawie metryk wyliczonych dla zbioru testowego.\n",
    "\n",
    "Walidacja krzyżowa jest alternatywnym podejściem do oceny modelu. Dane, które wykorzystywane są w procesie uczenia dzielone są na k podzbiorów (tzw. foldów) i uczenie przebiega w nastepujący sposób:\n",
    "\n",
    "1. k-1 podzbiorów tworzy zbiór uczący, na którym uczony jest model, a ostatni pozbiór służy do walidacji (czyli przeprowadzenia predykcji i wyznaczenia metryk),\n",
    "    \n",
    "2. proces powtarzany jest k-krotnie tak, by każdy z podzbiorów był użyty do walidacji,\n",
    "    \n",
    "3. wyniki ze wszystkich k predykcji są uśredniane,\n",
    "    \n",
    "4. można wyliczyć też odchylenie standardowe wyników uzyskanych na wszystkich foldach - wtedy mamy informację, czy model zawsze daje zbliżone wyniki, czy też zdarzyło się, że na którymś foldzie dał dużo niższe niż na innych (nie jest to pożądane).\n",
    "\n",
    "Korzystamy z funkcji StratifiedKFold, która przy okazji zapewnia stratyfikację danych podczas dzielenia na podzbiory.\n",
    "\n",
    "Często można spotkać się z tym, że do walidacji krzyżowej użyte są całe posiadane dane (nie wyodrębnia się zbioru testowego). Takie podejście nie jest polecane, ponieważ nie daje pełnego oglądu możliwości modelu. Najbardziej rekomendowane jest prowadzenie walidacji krzyżowej z wykorzystaniem zbioru uczącego, a następnie przeprowadzenie dodatkowej oceny modelu z użyciem zbioru testowego - tak będziemy robić na zajęciach."
   ]
  },
  {
   "cell_type": "markdown",
   "metadata": {},
   "source": [
    "Kolejną rzeczą, którą należy określić przed dokonaniem optymalizacji, są hiperparametry, które będą optymalizowane oraz zakresy wartości, które będą mogły przyjąć. Na razie będziemy wykorzystywać trzy rodzaje hiperparametrów:\n",
    "\n",
    "1. przyjmujące tylko wartości całkowite, np. liczba iteracji, liczba sąsiadów w metodzie kNN - do zdefiniowania możliwych wartości należy użyć metody suggest_int,\n",
    "    \n",
    "2. przyjmujące wartości kategorialne, np. rodzaj jądra (kernel) - do zdefiniowania możliwych wartości należy użyć metody suggest_categorical,\n",
    "    \n",
    "3. przyjmujące wartości rzeczywiste, często z przedziału [0,1] - do zdefiniowania możliwych wartości należy użyć metody suggest_uniform.\n",
    "    \n",
    "Dodatkowo definiujemy model, którego chcemy użyć (w tym przypadku regresja logistyczna) oraz liczbę prób (triali), które będą wykonane w celu ustalenia najlepszych hiperparametrów. Na razie dajemy małą liczbę prób, żeby nie tracić  zbyt dużo czasu - niestety optymalizacja jest bardzo czasochłonna, a na zajęciach nie mamy tyle czasu. W przypadku bardziej skomplikowanych modeli o dużej liczbie hiperparametrów, liczba triali musi być zdecydowanie większa niż 5, żeby uzyskać satysfakcjonujące wyniki - może wynosić nawet kilka tysięcy, np. w przypadku lasów losowych czy innych algorytmów drzewiastych."
   ]
  },
  {
   "cell_type": "code",
   "execution_count": 51,
   "metadata": {},
   "outputs": [],
   "source": [
    "model = LogisticRegression\n",
    "def get_space(trial): \n",
    "    space = {\"C\": trial.suggest_uniform(\"C\", 0, 1), \n",
    "           'max_iter': trial.suggest_int('max_iter', 100, 100),\n",
    "           \"solver\": trial.suggest_categorical(\"solver\", [\"lbfgs\", \"liblinear\"])}\n",
    "    return space\n",
    "trials = 5 #liczba prób"
   ]
  },
  {
   "cell_type": "markdown",
   "metadata": {},
   "source": [
    "Powyższe trzy hiperparametry to:\n",
    "1. C - określa regularyzację, czyli ograniczenie wartości współczynników (wag) tego modelu, co pozwala zmniejszyc ryzyko przeuczenia modelu i nadmiernego dopasowania do danych. Podobnie jak w SVM, im mniejsze C, tym większe zdolność modelu do generaliacji.\n",
    "2. solver - algorytm wykorzystywany do optymalizacji wag, \n",
    "3. max_iter - maksymalna liczba iteracji (prób), które będą wykonane, by solver osiągnął warunek zatrzymania (możliwe pod warunkiem, że solver jest zbieżny)."
   ]
  },
  {
   "cell_type": "markdown",
   "metadata": {},
   "source": [
    "Gdy mamy już wszystko zdefiniowane, możemy w końcu przejść do optymalizacji. Określamy jeszcze, czy metryka stosowana przez nas ma być maksymalizowana czy minimalizowana - chcemy mieć jak największy ROC AUC, więc wybieramy direction='maximize' i rozpoczynamy optymalizację."
   ]
  },
  {
   "cell_type": "code",
   "execution_count": 52,
   "metadata": {
    "scrolled": true
   },
   "outputs": [
    {
     "name": "stderr",
     "output_type": "stream",
     "text": [
      "\u001b[32m[I 2022-12-19 20:52:50,777]\u001b[0m A new study created in memory with name: no-name-0d5fc551-fc9d-4db6-8c56-53f94e206101\u001b[0m\n",
      "C:\\Users\\jakub\\AppData\\Local\\Temp\\ipykernel_1868\\831137447.py:3: FutureWarning: suggest_uniform has been deprecated in v3.0.0. This feature will be removed in v6.0.0. See https://github.com/optuna/optuna/releases/tag/v3.0.0. Use :func:`~optuna.trial.Trial.suggest_float` instead.\n",
      "  space = {\"C\": trial.suggest_uniform(\"C\", 0, 1),\n",
      "\u001b[32m[I 2022-12-19 20:52:54,251]\u001b[0m Trial 0 finished with value: 0.9515609880315763 and parameters: {'C': 0.2727377542745062, 'max_iter': 100, 'solver': 'lbfgs'}. Best is trial 0 with value: 0.9515609880315763.\u001b[0m\n",
      "C:\\Users\\jakub\\AppData\\Local\\Temp\\ipykernel_1868\\831137447.py:3: FutureWarning: suggest_uniform has been deprecated in v3.0.0. This feature will be removed in v6.0.0. See https://github.com/optuna/optuna/releases/tag/v3.0.0. Use :func:`~optuna.trial.Trial.suggest_float` instead.\n",
      "  space = {\"C\": trial.suggest_uniform(\"C\", 0, 1),\n",
      "\u001b[32m[I 2022-12-19 20:52:58,331]\u001b[0m Trial 1 finished with value: 0.956322892793481 and parameters: {'C': 0.6555514217590153, 'max_iter': 100, 'solver': 'lbfgs'}. Best is trial 1 with value: 0.956322892793481.\u001b[0m\n",
      "C:\\Users\\jakub\\AppData\\Local\\Temp\\ipykernel_1868\\831137447.py:3: FutureWarning: suggest_uniform has been deprecated in v3.0.0. This feature will be removed in v6.0.0. See https://github.com/optuna/optuna/releases/tag/v3.0.0. Use :func:`~optuna.trial.Trial.suggest_float` instead.\n",
      "  space = {\"C\": trial.suggest_uniform(\"C\", 0, 1),\n",
      "\u001b[32m[I 2022-12-19 20:53:04,132]\u001b[0m Trial 2 finished with value: 0.9284313725490195 and parameters: {'C': 0.7231028056178285, 'max_iter': 100, 'solver': 'liblinear'}. Best is trial 1 with value: 0.956322892793481.\u001b[0m\n",
      "C:\\Users\\jakub\\AppData\\Local\\Temp\\ipykernel_1868\\831137447.py:3: FutureWarning: suggest_uniform has been deprecated in v3.0.0. This feature will be removed in v6.0.0. See https://github.com/optuna/optuna/releases/tag/v3.0.0. Use :func:`~optuna.trial.Trial.suggest_float` instead.\n",
      "  space = {\"C\": trial.suggest_uniform(\"C\", 0, 1),\n",
      "\u001b[32m[I 2022-12-19 20:53:09,267]\u001b[0m Trial 3 finished with value: 0.9284313725490195 and parameters: {'C': 0.33760047322167364, 'max_iter': 100, 'solver': 'liblinear'}. Best is trial 1 with value: 0.956322892793481.\u001b[0m\n",
      "C:\\Users\\jakub\\AppData\\Local\\Temp\\ipykernel_1868\\831137447.py:3: FutureWarning: suggest_uniform has been deprecated in v3.0.0. This feature will be removed in v6.0.0. See https://github.com/optuna/optuna/releases/tag/v3.0.0. Use :func:`~optuna.trial.Trial.suggest_float` instead.\n",
      "  space = {\"C\": trial.suggest_uniform(\"C\", 0, 1),\n",
      "\u001b[32m[I 2022-12-19 20:53:17,681]\u001b[0m Trial 4 finished with value: 0.9284313725490195 and parameters: {'C': 0.8239922346286557, 'max_iter': 100, 'solver': 'liblinear'}. Best is trial 1 with value: 0.956322892793481.\u001b[0m\n"
     ]
    }
   ],
   "source": [
    "study = optuna.create_study(direction='maximize')\n",
    "study.optimize(lambda x: objective(x, model, get_space, X_train_scaled, y_train), n_trials=trials)"
   ]
  },
  {
   "cell_type": "markdown",
   "metadata": {},
   "source": [
    "Gdy model jest już zoptymalizowany, możemy wyświetlić wartości hiperparametrów, które zostały dobrane."
   ]
  },
  {
   "cell_type": "code",
   "execution_count": 53,
   "metadata": {},
   "outputs": [
    {
     "name": "stdout",
     "output_type": "stream",
     "text": [
      "params:  {'C': 0.6555514217590153, 'max_iter': 100, 'solver': 'lbfgs'}\n"
     ]
    }
   ],
   "source": [
    "print('params: ', study.best_params)"
   ]
  },
  {
   "cell_type": "markdown",
   "metadata": {},
   "source": [
    "Następnie uczymy model o dobranych hiperparametrach i prowadzimy predykcję, żeby zobaczyć, czy faktycznie uzyskujemy dobre wyniki."
   ]
  },
  {
   "cell_type": "code",
   "execution_count": 54,
   "metadata": {},
   "outputs": [
    {
     "name": "stdout",
     "output_type": "stream",
     "text": [
      "test ROC_AUC:  0.9770935960591133\n"
     ]
    }
   ],
   "source": [
    "lr = model(**study.best_params)\n",
    "lr.fit(X_train_scaled, y_train)\n",
    "preds = lr.predict(X_test_scaled)\n",
    "pickle.dump(lr, open('lr_model', 'wb+'))\n",
    "print('test ROC_AUC: ', roc_auc_score(y_test, preds))"
   ]
  },
  {
   "cell_type": "markdown",
   "metadata": {},
   "source": [
    "Porównaj uzyskaną wartość ROC AUC z tą, którą uzyskaliśmy samodzielnie dobierając wartości hiperparametrów. Możesz spróbowac zwiększyć liczbę triali, jeżeli wyniki nie są satysfakcjonujące."
   ]
  },
  {
   "cell_type": "code",
   "execution_count": null,
   "metadata": {},
   "outputs": [],
   "source": []
  },
  {
   "cell_type": "markdown",
   "metadata": {},
   "source": [
    "W analogiczny sposób zoptymalizuj SVC - optymalizacji poddaj 3 hiperparametry: C, kernel i degree. W tym celu przeanalizuj najpierw dokumentację funkcji i to, jakie wartości mogą przyjmować te parametry: https://scikit-learn.org/stable/modules/generated/sklearn.svm.SVC.html#sklearn.svm.SVC\n",
    "\n",
    "C i kernel były wyjaśnione wcześniej. Degree określa stopień wielomianu funkcji jądra, jeżeli kernel='poly'. W przypadku innych funkcji jądra jest ignorowany."
   ]
  },
  {
   "cell_type": "code",
   "execution_count": 55,
   "metadata": {},
   "outputs": [
    {
     "name": "stderr",
     "output_type": "stream",
     "text": [
      "\u001b[32m[I 2022-12-19 20:53:19,063]\u001b[0m A new study created in memory with name: no-name-11fe6a5e-b971-4e3f-ab9c-74a2e2d77df9\u001b[0m\n",
      "C:\\Users\\jakub\\AppData\\Local\\Temp\\ipykernel_1868\\2330379732.py:2: FutureWarning: suggest_uniform has been deprecated in v3.0.0. This feature will be removed in v6.0.0. See https://github.com/optuna/optuna/releases/tag/v3.0.0. Use :func:`~optuna.trial.Trial.suggest_float` instead.\n",
      "  space = {\"C\": trial.suggest_uniform(\"C\", 0, 1),\n",
      "\u001b[32m[I 2022-12-19 20:53:56,065]\u001b[0m Trial 0 finished with value: 0.940348866819455 and parameters: {'C': 0.6591723290564738, 'kernel': 'rbf', 'degree': 2}. Best is trial 0 with value: 0.940348866819455.\u001b[0m\n",
      "C:\\Users\\jakub\\AppData\\Local\\Temp\\ipykernel_1868\\2330379732.py:2: FutureWarning: suggest_uniform has been deprecated in v3.0.0. This feature will be removed in v6.0.0. See https://github.com/optuna/optuna/releases/tag/v3.0.0. Use :func:`~optuna.trial.Trial.suggest_float` instead.\n",
      "  space = {\"C\": trial.suggest_uniform(\"C\", 0, 1),\n",
      "\u001b[32m[I 2022-12-19 20:54:14,147]\u001b[0m Trial 1 finished with value: 0.9581436210847976 and parameters: {'C': 0.20706206095951896, 'kernel': 'linear', 'degree': 3}. Best is trial 1 with value: 0.9581436210847976.\u001b[0m\n",
      "C:\\Users\\jakub\\AppData\\Local\\Temp\\ipykernel_1868\\2330379732.py:2: FutureWarning: suggest_uniform has been deprecated in v3.0.0. This feature will be removed in v6.0.0. See https://github.com/optuna/optuna/releases/tag/v3.0.0. Use :func:`~optuna.trial.Trial.suggest_float` instead.\n",
      "  space = {\"C\": trial.suggest_uniform(\"C\", 0, 1),\n",
      "\u001b[32m[I 2022-12-19 20:54:52,490]\u001b[0m Trial 2 finished with value: 0.8225999490705374 and parameters: {'C': 0.192481734985674, 'kernel': 'rbf', 'degree': 2}. Best is trial 1 with value: 0.9581436210847976.\u001b[0m\n",
      "C:\\Users\\jakub\\AppData\\Local\\Temp\\ipykernel_1868\\2330379732.py:2: FutureWarning: suggest_uniform has been deprecated in v3.0.0. This feature will be removed in v6.0.0. See https://github.com/optuna/optuna/releases/tag/v3.0.0. Use :func:`~optuna.trial.Trial.suggest_float` instead.\n",
      "  space = {\"C\": trial.suggest_uniform(\"C\", 0, 1),\n",
      "\u001b[32m[I 2022-12-19 20:55:10,785]\u001b[0m Trial 3 finished with value: 0.9581436210847976 and parameters: {'C': 0.8307209296577743, 'kernel': 'linear', 'degree': 3}. Best is trial 1 with value: 0.9581436210847976.\u001b[0m\n",
      "C:\\Users\\jakub\\AppData\\Local\\Temp\\ipykernel_1868\\2330379732.py:2: FutureWarning: suggest_uniform has been deprecated in v3.0.0. This feature will be removed in v6.0.0. See https://github.com/optuna/optuna/releases/tag/v3.0.0. Use :func:`~optuna.trial.Trial.suggest_float` instead.\n",
      "  space = {\"C\": trial.suggest_uniform(\"C\", 0, 1),\n",
      "\u001b[32m[I 2022-12-19 20:55:29,416]\u001b[0m Trial 4 finished with value: 0.9581436210847976 and parameters: {'C': 0.5662665057309336, 'kernel': 'linear', 'degree': 3}. Best is trial 1 with value: 0.9581436210847976.\u001b[0m\n",
      "C:\\Users\\jakub\\AppData\\Local\\Temp\\ipykernel_1868\\2330379732.py:2: FutureWarning: suggest_uniform has been deprecated in v3.0.0. This feature will be removed in v6.0.0. See https://github.com/optuna/optuna/releases/tag/v3.0.0. Use :func:`~optuna.trial.Trial.suggest_float` instead.\n",
      "  space = {\"C\": trial.suggest_uniform(\"C\", 0, 1),\n",
      "\u001b[32m[I 2022-12-19 20:55:47,719]\u001b[0m Trial 5 finished with value: 0.940348866819455 and parameters: {'C': 0.5256104021372636, 'kernel': 'sigmoid', 'degree': 1}. Best is trial 1 with value: 0.9581436210847976.\u001b[0m\n",
      "C:\\Users\\jakub\\AppData\\Local\\Temp\\ipykernel_1868\\2330379732.py:2: FutureWarning: suggest_uniform has been deprecated in v3.0.0. This feature will be removed in v6.0.0. See https://github.com/optuna/optuna/releases/tag/v3.0.0. Use :func:`~optuna.trial.Trial.suggest_float` instead.\n",
      "  space = {\"C\": trial.suggest_uniform(\"C\", 0, 1),\n",
      "\u001b[32m[I 2022-12-19 20:56:22,818]\u001b[0m Trial 6 finished with value: 0.9024700789406672 and parameters: {'C': 0.27327194236517094, 'kernel': 'rbf', 'degree': 2}. Best is trial 1 with value: 0.9581436210847976.\u001b[0m\n",
      "C:\\Users\\jakub\\AppData\\Local\\Temp\\ipykernel_1868\\2330379732.py:2: FutureWarning: suggest_uniform has been deprecated in v3.0.0. This feature will be removed in v6.0.0. See https://github.com/optuna/optuna/releases/tag/v3.0.0. Use :func:`~optuna.trial.Trial.suggest_float` instead.\n",
      "  space = {\"C\": trial.suggest_uniform(\"C\", 0, 1),\n",
      "\u001b[32m[I 2022-12-19 20:56:55,655]\u001b[0m Trial 7 finished with value: 0.5 and parameters: {'C': 0.233625274502832, 'kernel': 'poly', 'degree': 2}. Best is trial 1 with value: 0.9581436210847976.\u001b[0m\n",
      "C:\\Users\\jakub\\AppData\\Local\\Temp\\ipykernel_1868\\2330379732.py:2: FutureWarning: suggest_uniform has been deprecated in v3.0.0. This feature will be removed in v6.0.0. See https://github.com/optuna/optuna/releases/tag/v3.0.0. Use :func:`~optuna.trial.Trial.suggest_float` instead.\n",
      "  space = {\"C\": trial.suggest_uniform(\"C\", 0, 1),\n",
      "\u001b[32m[I 2022-12-19 20:57:30,135]\u001b[0m Trial 8 finished with value: 0.9260631525337407 and parameters: {'C': 0.36252331109336555, 'kernel': 'rbf', 'degree': 3}. Best is trial 1 with value: 0.9581436210847976.\u001b[0m\n",
      "C:\\Users\\jakub\\AppData\\Local\\Temp\\ipykernel_1868\\2330379732.py:2: FutureWarning: suggest_uniform has been deprecated in v3.0.0. This feature will be removed in v6.0.0. See https://github.com/optuna/optuna/releases/tag/v3.0.0. Use :func:`~optuna.trial.Trial.suggest_float` instead.\n",
      "  space = {\"C\": trial.suggest_uniform(\"C\", 0, 1),\n",
      "\u001b[32m[I 2022-12-19 20:58:03,646]\u001b[0m Trial 9 finished with value: 0.940348866819455 and parameters: {'C': 0.728272151058181, 'kernel': 'rbf', 'degree': 2}. Best is trial 1 with value: 0.9581436210847976.\u001b[0m\n",
      "C:\\Users\\jakub\\AppData\\Local\\Temp\\ipykernel_1868\\2330379732.py:2: FutureWarning: suggest_uniform has been deprecated in v3.0.0. This feature will be removed in v6.0.0. See https://github.com/optuna/optuna/releases/tag/v3.0.0. Use :func:`~optuna.trial.Trial.suggest_float` instead.\n",
      "  space = {\"C\": trial.suggest_uniform(\"C\", 0, 1),\n",
      "\u001b[32m[I 2022-12-19 20:58:19,406]\u001b[0m Trial 10 finished with value: 0.9581436210847976 and parameters: {'C': 0.052518887946336995, 'kernel': 'linear', 'degree': 1}. Best is trial 1 with value: 0.9581436210847976.\u001b[0m\n",
      "C:\\Users\\jakub\\AppData\\Local\\Temp\\ipykernel_1868\\2330379732.py:2: FutureWarning: suggest_uniform has been deprecated in v3.0.0. This feature will be removed in v6.0.0. See https://github.com/optuna/optuna/releases/tag/v3.0.0. Use :func:`~optuna.trial.Trial.suggest_float` instead.\n",
      "  space = {\"C\": trial.suggest_uniform(\"C\", 0, 1),\n",
      "\u001b[32m[I 2022-12-19 20:58:35,538]\u001b[0m Trial 11 finished with value: 0.9581436210847976 and parameters: {'C': 0.9995382742034054, 'kernel': 'linear', 'degree': 3}. Best is trial 1 with value: 0.9581436210847976.\u001b[0m\n",
      "C:\\Users\\jakub\\AppData\\Local\\Temp\\ipykernel_1868\\2330379732.py:2: FutureWarning: suggest_uniform has been deprecated in v3.0.0. This feature will be removed in v6.0.0. See https://github.com/optuna/optuna/releases/tag/v3.0.0. Use :func:`~optuna.trial.Trial.suggest_float` instead.\n",
      "  space = {\"C\": trial.suggest_uniform(\"C\", 0, 1),\n",
      "\u001b[32m[I 2022-12-19 20:58:50,876]\u001b[0m Trial 12 finished with value: 0.9581436210847976 and parameters: {'C': 0.8957109283199484, 'kernel': 'linear', 'degree': 3}. Best is trial 1 with value: 0.9581436210847976.\u001b[0m\n",
      "C:\\Users\\jakub\\AppData\\Local\\Temp\\ipykernel_1868\\2330379732.py:2: FutureWarning: suggest_uniform has been deprecated in v3.0.0. This feature will be removed in v6.0.0. See https://github.com/optuna/optuna/releases/tag/v3.0.0. Use :func:`~optuna.trial.Trial.suggest_float` instead.\n",
      "  space = {\"C\": trial.suggest_uniform(\"C\", 0, 1),\n",
      "\u001b[32m[I 2022-12-19 20:59:08,119]\u001b[0m Trial 13 finished with value: 0.9581436210847976 and parameters: {'C': 0.017094769806910715, 'kernel': 'linear', 'degree': 3}. Best is trial 1 with value: 0.9581436210847976.\u001b[0m\n",
      "C:\\Users\\jakub\\AppData\\Local\\Temp\\ipykernel_1868\\2330379732.py:2: FutureWarning: suggest_uniform has been deprecated in v3.0.0. This feature will be removed in v6.0.0. See https://github.com/optuna/optuna/releases/tag/v3.0.0. Use :func:`~optuna.trial.Trial.suggest_float` instead.\n",
      "  space = {\"C\": trial.suggest_uniform(\"C\", 0, 1),\n",
      "\u001b[32m[I 2022-12-19 20:59:24,954]\u001b[0m Trial 14 finished with value: 0.9451107715813599 and parameters: {'C': 0.7872856904485627, 'kernel': 'sigmoid', 'degree': 3}. Best is trial 1 with value: 0.9581436210847976.\u001b[0m\n",
      "C:\\Users\\jakub\\AppData\\Local\\Temp\\ipykernel_1868\\2330379732.py:2: FutureWarning: suggest_uniform has been deprecated in v3.0.0. This feature will be removed in v6.0.0. See https://github.com/optuna/optuna/releases/tag/v3.0.0. Use :func:`~optuna.trial.Trial.suggest_float` instead.\n",
      "  space = {\"C\": trial.suggest_uniform(\"C\", 0, 1),\n",
      "\u001b[32m[I 2022-12-19 21:00:00,381]\u001b[0m Trial 15 finished with value: 0.5 and parameters: {'C': 0.4075134422477761, 'kernel': 'poly', 'degree': 3}. Best is trial 1 with value: 0.9581436210847976.\u001b[0m\n",
      "C:\\Users\\jakub\\AppData\\Local\\Temp\\ipykernel_1868\\2330379732.py:2: FutureWarning: suggest_uniform has been deprecated in v3.0.0. This feature will be removed in v6.0.0. See https://github.com/optuna/optuna/releases/tag/v3.0.0. Use :func:`~optuna.trial.Trial.suggest_float` instead.\n",
      "  space = {\"C\": trial.suggest_uniform(\"C\", 0, 1),\n",
      "\u001b[32m[I 2022-12-19 21:00:18,533]\u001b[0m Trial 16 finished with value: 0.9581436210847976 and parameters: {'C': 0.13879359830888932, 'kernel': 'linear', 'degree': 3}. Best is trial 1 with value: 0.9581436210847976.\u001b[0m\n",
      "C:\\Users\\jakub\\AppData\\Local\\Temp\\ipykernel_1868\\2330379732.py:2: FutureWarning: suggest_uniform has been deprecated in v3.0.0. This feature will be removed in v6.0.0. See https://github.com/optuna/optuna/releases/tag/v3.0.0. Use :func:`~optuna.trial.Trial.suggest_float` instead.\n",
      "  space = {\"C\": trial.suggest_uniform(\"C\", 0, 1),\n",
      "\u001b[32m[I 2022-12-19 21:00:35,916]\u001b[0m Trial 17 finished with value: 0.9581436210847976 and parameters: {'C': 0.1335354881377961, 'kernel': 'linear', 'degree': 1}. Best is trial 1 with value: 0.9581436210847976.\u001b[0m\n",
      "C:\\Users\\jakub\\AppData\\Local\\Temp\\ipykernel_1868\\2330379732.py:2: FutureWarning: suggest_uniform has been deprecated in v3.0.0. This feature will be removed in v6.0.0. See https://github.com/optuna/optuna/releases/tag/v3.0.0. Use :func:`~optuna.trial.Trial.suggest_float` instead.\n",
      "  space = {\"C\": trial.suggest_uniform(\"C\", 0, 1),\n",
      "\u001b[32m[I 2022-12-19 21:00:53,439]\u001b[0m Trial 18 finished with value: 0.9581436210847976 and parameters: {'C': 0.3551205801750151, 'kernel': 'linear', 'degree': 1}. Best is trial 1 with value: 0.9581436210847976.\u001b[0m\n",
      "C:\\Users\\jakub\\AppData\\Local\\Temp\\ipykernel_1868\\2330379732.py:2: FutureWarning: suggest_uniform has been deprecated in v3.0.0. This feature will be removed in v6.0.0. See https://github.com/optuna/optuna/releases/tag/v3.0.0. Use :func:`~optuna.trial.Trial.suggest_float` instead.\n",
      "  space = {\"C\": trial.suggest_uniform(\"C\", 0, 1),\n",
      "\u001b[32m[I 2022-12-19 21:01:18,156]\u001b[0m Trial 19 finished with value: 0.940348866819455 and parameters: {'C': 0.34617615325293855, 'kernel': 'poly', 'degree': 1}. Best is trial 1 with value: 0.9581436210847976.\u001b[0m\n",
      "C:\\Users\\jakub\\AppData\\Local\\Temp\\ipykernel_1868\\2330379732.py:2: FutureWarning: suggest_uniform has been deprecated in v3.0.0. This feature will be removed in v6.0.0. See https://github.com/optuna/optuna/releases/tag/v3.0.0. Use :func:`~optuna.trial.Trial.suggest_float` instead.\n",
      "  space = {\"C\": trial.suggest_uniform(\"C\", 0, 1),\n",
      "\u001b[32m[I 2022-12-19 21:01:45,148]\u001b[0m Trial 20 finished with value: 0.8559332824038707 and parameters: {'C': 0.10321547234989191, 'kernel': 'sigmoid', 'degree': 1}. Best is trial 1 with value: 0.9581436210847976.\u001b[0m\n",
      "C:\\Users\\jakub\\AppData\\Local\\Temp\\ipykernel_1868\\2330379732.py:2: FutureWarning: suggest_uniform has been deprecated in v3.0.0. This feature will be removed in v6.0.0. See https://github.com/optuna/optuna/releases/tag/v3.0.0. Use :func:`~optuna.trial.Trial.suggest_float` instead.\n",
      "  space = {\"C\": trial.suggest_uniform(\"C\", 0, 1),\n",
      "\u001b[32m[I 2022-12-19 21:02:07,796]\u001b[0m Trial 21 finished with value: 0.9581436210847976 and parameters: {'C': 0.023220627397936885, 'kernel': 'linear', 'degree': 1}. Best is trial 1 with value: 0.9581436210847976.\u001b[0m\n",
      "C:\\Users\\jakub\\AppData\\Local\\Temp\\ipykernel_1868\\2330379732.py:2: FutureWarning: suggest_uniform has been deprecated in v3.0.0. This feature will be removed in v6.0.0. See https://github.com/optuna/optuna/releases/tag/v3.0.0. Use :func:`~optuna.trial.Trial.suggest_float` instead.\n",
      "  space = {\"C\": trial.suggest_uniform(\"C\", 0, 1),\n",
      "\u001b[32m[I 2022-12-19 21:02:31,298]\u001b[0m Trial 22 finished with value: 0.9581436210847976 and parameters: {'C': 0.11119002167295464, 'kernel': 'linear', 'degree': 1}. Best is trial 1 with value: 0.9581436210847976.\u001b[0m\n",
      "C:\\Users\\jakub\\AppData\\Local\\Temp\\ipykernel_1868\\2330379732.py:2: FutureWarning: suggest_uniform has been deprecated in v3.0.0. This feature will be removed in v6.0.0. See https://github.com/optuna/optuna/releases/tag/v3.0.0. Use :func:`~optuna.trial.Trial.suggest_float` instead.\n",
      "  space = {\"C\": trial.suggest_uniform(\"C\", 0, 1),\n",
      "\u001b[32m[I 2022-12-19 21:02:49,953]\u001b[0m Trial 23 finished with value: 0.9581436210847976 and parameters: {'C': 0.972340959147566, 'kernel': 'linear', 'degree': 1}. Best is trial 1 with value: 0.9581436210847976.\u001b[0m\n",
      "C:\\Users\\jakub\\AppData\\Local\\Temp\\ipykernel_1868\\2330379732.py:2: FutureWarning: suggest_uniform has been deprecated in v3.0.0. This feature will be removed in v6.0.0. See https://github.com/optuna/optuna/releases/tag/v3.0.0. Use :func:`~optuna.trial.Trial.suggest_float` instead.\n",
      "  space = {\"C\": trial.suggest_uniform(\"C\", 0, 1),\n",
      "\u001b[32m[I 2022-12-19 21:03:09,590]\u001b[0m Trial 24 finished with value: 0.9581436210847976 and parameters: {'C': 0.45211042094999715, 'kernel': 'linear', 'degree': 1}. Best is trial 1 with value: 0.9581436210847976.\u001b[0m\n",
      "C:\\Users\\jakub\\AppData\\Local\\Temp\\ipykernel_1868\\2330379732.py:2: FutureWarning: suggest_uniform has been deprecated in v3.0.0. This feature will be removed in v6.0.0. See https://github.com/optuna/optuna/releases/tag/v3.0.0. Use :func:`~optuna.trial.Trial.suggest_float` instead.\n",
      "  space = {\"C\": trial.suggest_uniform(\"C\", 0, 1),\n",
      "\u001b[32m[I 2022-12-19 21:03:31,746]\u001b[0m Trial 25 finished with value: 0.9581436210847976 and parameters: {'C': 0.0028025863787092264, 'kernel': 'linear', 'degree': 2}. Best is trial 1 with value: 0.9581436210847976.\u001b[0m\n",
      "C:\\Users\\jakub\\AppData\\Local\\Temp\\ipykernel_1868\\2330379732.py:2: FutureWarning: suggest_uniform has been deprecated in v3.0.0. This feature will be removed in v6.0.0. See https://github.com/optuna/optuna/releases/tag/v3.0.0. Use :func:`~optuna.trial.Trial.suggest_float` instead.\n",
      "  space = {\"C\": trial.suggest_uniform(\"C\", 0, 1),\n",
      "\u001b[32m[I 2022-12-19 21:03:50,340]\u001b[0m Trial 26 finished with value: 0.9581436210847976 and parameters: {'C': 0.9784248987310344, 'kernel': 'linear', 'degree': 2}. Best is trial 1 with value: 0.9581436210847976.\u001b[0m\n",
      "C:\\Users\\jakub\\AppData\\Local\\Temp\\ipykernel_1868\\2330379732.py:2: FutureWarning: suggest_uniform has been deprecated in v3.0.0. This feature will be removed in v6.0.0. See https://github.com/optuna/optuna/releases/tag/v3.0.0. Use :func:`~optuna.trial.Trial.suggest_float` instead.\n",
      "  space = {\"C\": trial.suggest_uniform(\"C\", 0, 1),\n",
      "\u001b[32m[I 2022-12-19 21:04:07,898]\u001b[0m Trial 27 finished with value: 0.9581436210847976 and parameters: {'C': 0.6041731455873225, 'kernel': 'linear', 'degree': 1}. Best is trial 1 with value: 0.9581436210847976.\u001b[0m\n",
      "C:\\Users\\jakub\\AppData\\Local\\Temp\\ipykernel_1868\\2330379732.py:2: FutureWarning: suggest_uniform has been deprecated in v3.0.0. This feature will be removed in v6.0.0. See https://github.com/optuna/optuna/releases/tag/v3.0.0. Use :func:`~optuna.trial.Trial.suggest_float` instead.\n",
      "  space = {\"C\": trial.suggest_uniform(\"C\", 0, 1),\n",
      "\u001b[32m[I 2022-12-19 21:04:27,823]\u001b[0m Trial 28 finished with value: 0.940348866819455 and parameters: {'C': 0.4604622038052467, 'kernel': 'sigmoid', 'degree': 2}. Best is trial 1 with value: 0.9581436210847976.\u001b[0m\n",
      "C:\\Users\\jakub\\AppData\\Local\\Temp\\ipykernel_1868\\2330379732.py:2: FutureWarning: suggest_uniform has been deprecated in v3.0.0. This feature will be removed in v6.0.0. See https://github.com/optuna/optuna/releases/tag/v3.0.0. Use :func:`~optuna.trial.Trial.suggest_float` instead.\n",
      "  space = {\"C\": trial.suggest_uniform(\"C\", 0, 1),\n",
      "\u001b[32m[I 2022-12-19 21:04:47,230]\u001b[0m Trial 29 finished with value: 0.940348866819455 and parameters: {'C': 0.592459076497399, 'kernel': 'poly', 'degree': 1}. Best is trial 1 with value: 0.9581436210847976.\u001b[0m\n"
     ]
    }
   ],
   "source": [
    "def get_space1(trial): \n",
    "    space = {\"C\": trial.suggest_uniform(\"C\", 0, 1), \n",
    "           \"kernel\": trial.suggest_categorical(\"kernel\", ['linear', 'poly', 'rbf', 'sigmoid']),\n",
    "            'degree': trial.suggest_int('degree', 1,3)}\n",
    "    return space\n",
    "\n",
    "def objective(trial, model, get_space, X, y):\n",
    "    model_space = get_space(trial)\n",
    "\n",
    "    mdl = model(**model_space)\n",
    "    scores = cross_validate(mdl, X, y, scoring=scoring, cv=StratifiedKFold(n_splits=5), return_train_score=True)\n",
    "\n",
    "    return np.mean(scores['test_roc_macro'])\n",
    "model = SVC\n",
    "trials = 5\n",
    "study = optuna.create_study(direction='maximize')\n",
    "study.optimize(lambda x: objective(x, model, get_space1, X_train_scaled, y_train), n_trials=trials)"
   ]
  },
  {
   "cell_type": "code",
   "execution_count": 56,
   "metadata": {},
   "outputs": [
    {
     "name": "stdout",
     "output_type": "stream",
     "text": [
      "params:  {'C': 0.20706206095951896, 'kernel': 'linear', 'degree': 3}\n",
      "test ROC_AUC:  0.9770935960591133\n"
     ]
    }
   ],
   "source": [
    "print('params: ', study.best_params)\n",
    "lr = model(**study.best_params)\n",
    "lr.fit(X_train_scaled, y_train)\n",
    "preds = lr.predict(X_test_scaled)\n",
    "pickle.dump(lr, open('lr_model', 'wb+'))\n",
    "print('test ROC_AUC: ', roc_auc_score(y_test, preds))"
   ]
  }
 ],
 "metadata": {
  "kernelspec": {
   "display_name": "Python 3.10.2 64-bit",
   "language": "python",
   "name": "python3"
  },
  "language_info": {
   "codemirror_mode": {
    "name": "ipython",
    "version": 3
   },
   "file_extension": ".py",
   "mimetype": "text/x-python",
   "name": "python",
   "nbconvert_exporter": "python",
   "pygments_lexer": "ipython3",
   "version": "3.10.2"
  },
  "vscode": {
   "interpreter": {
    "hash": "f0cf854484826becf69b9363a35f769a3f32573db803431254cc95fc20fb81b2"
   }
  }
 },
 "nbformat": 4,
 "nbformat_minor": 4
}
