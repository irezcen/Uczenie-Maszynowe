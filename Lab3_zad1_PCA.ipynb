{
 "cells": [
  {
   "cell_type": "markdown",
   "id": "79785c56",
   "metadata": {},
   "source": [
    "Analiza składowych głównych (ang. principal component analysis, PCA) polega na rzutowaniu danych na nową przestrzeń, w której poszczególne składowe są względem siebie ortogonalne. Nowe składowe są kombinacją liniową (sumą ważoną) analizowanych zmiennych.\n",
    "\n",
    "PCA jest wykorzystywane w różnych celach:\n",
    "- redukcji wymiarowości,\n",
    "- kompresji sygnałów,\n",
    "- eksploracji danych i klasteryzacji.\n",
    "\n",
    "Na początek rozważmy prosty, nieakustyczny przykład. Skorzystamy ze zbioru danych zawierającego informacje o czterech cechach trzech gatunków irysów, który jest wbudowany w bibliotekę scikit-learn. Te cechy to długość i szerokość dwóch rodzajów płatków - sepali i petali.\n",
    "\n",
    "Od razu przeprowadzimy standaryzację danych, ponieważ PCA jest wrażliwe na rząd wielkości danych i bez standaryzacji wyniki mogą wyjść dużo gorsze. W dokumentacji scikit-learn jest dobry przykład co się może stać, jeżeli zapomnimy o standaryzacji: https://scikit-learn.org/stable/auto_examples/preprocessing/plot_scaling_importance.html#sphx-glr-auto-examples-preprocessing-plot-scaling-importance-py"
   ]
  },
  {
   "cell_type": "code",
   "execution_count": 170,
   "id": "18483375",
   "metadata": {},
   "outputs": [],
   "source": [
    "from sklearn import datasets\n",
    "from matplotlib import pyplot as plt\n",
    "from mpl_toolkits.mplot3d import Axes3D\n",
    "from sklearn.preprocessing import StandardScaler\n",
    "import pandas as pd\n",
    "import numpy as np\n",
    "import time\n",
    "iris = datasets.load_iris()\n",
    "X = iris.data\n",
    "y = iris.target\n",
    "X = StandardScaler().fit_transform(X) #standaryzacja danych"
   ]
  },
  {
   "cell_type": "markdown",
   "id": "770ef648",
   "metadata": {},
   "source": [
    "Dane są 4D, więc nie da się ich w łatwy sposób zwizualizować. Najprościej byłoby narysować wykres 3D, a czwarty wymiar oznaczyć kolorami, ale nie byłoby to zbyt czytelne, więc na razie pominiemy wykresy. Możemy jednak dane dodać do tabeli i wyświetlić ją oraz sprawdzić, jakie klasy występują w zbiorze (co prawda wiemy, że 3, ale warto to sprawdzić, jeżeli nie my tworzyliśmy zbiór danych - ktoś mógł się pomylić przy tworzeniu labeli lub przez przypadek dodać jakieś inne obiekty)"
   ]
  },
  {
   "cell_type": "code",
   "execution_count": 171,
   "id": "31e8d5e3",
   "metadata": {},
   "outputs": [
    {
     "name": "stdout",
     "output_type": "stream",
     "text": [
      "     sepal length  sepal width  petal length  petal width  target numerical\n",
      "0       -0.900681     1.019004     -1.340227    -1.315444               0.0\n",
      "1       -1.143017    -0.131979     -1.340227    -1.315444               0.0\n",
      "2       -1.385353     0.328414     -1.397064    -1.315444               0.0\n",
      "3       -1.506521     0.098217     -1.283389    -1.315444               0.0\n",
      "4       -1.021849     1.249201     -1.340227    -1.315444               0.0\n",
      "..            ...          ...           ...          ...               ...\n",
      "145      1.038005    -0.131979      0.819596     1.448832               2.0\n",
      "146      0.553333    -1.282963      0.705921     0.922303               2.0\n",
      "147      0.795669    -0.131979      0.819596     1.053935               2.0\n",
      "148      0.432165     0.788808      0.933271     1.448832               2.0\n",
      "149      0.068662    -0.131979      0.762758     0.790671               2.0\n",
      "\n",
      "[150 rows x 5 columns]\n",
      "[0 1 2]\n"
     ]
    }
   ],
   "source": [
    "print(pd.DataFrame(np.hstack((X,y[:, np.newaxis])),\n",
    "                columns=['sepal length', 'sepal width', 'petal length', \n",
    "                         'petal width', 'target numerical', \n",
    "                        ]))\n",
    "print(np.unique(y)) #unikalne wartości w wektorze y - można tak sprawdzić, ile klas jest w zbiorze danych \n",
    "                    #i jak są one oznaczone"
   ]
  },
  {
   "cell_type": "markdown",
   "id": "17736041",
   "metadata": {},
   "source": [
    "Teraz możemy przejść do zastosowania PCA i wyznaczenia składowych głównych. Gdybyśmy chcieli wykorzystywać PCA do redukcji wymiarowości, a potem klasyfikacji w oparciu o nowe składowe, to trzeba podzielić dane na zbiór uczący i testowy, a dopiero potem zrobić PCA."
   ]
  },
  {
   "cell_type": "code",
   "execution_count": 172,
   "id": "e921761c",
   "metadata": {},
   "outputs": [],
   "source": [
    "from sklearn.model_selection import train_test_split\n",
    "X_train, X_test, y_train, y_test = train_test_split(X, y, random_state=42, stratify=y)"
   ]
  },
  {
   "cell_type": "code",
   "execution_count": 173,
   "id": "5b6007cb",
   "metadata": {},
   "outputs": [],
   "source": [
    "from sklearn.decomposition import PCA\n",
    "pca = PCA(n_components=2) #bierzemy dwie składowe, żeby łatwo było zwizualizować wyniki\n",
    "principal_components_train = pca.fit_transform(X_train)\n",
    "principal_components_test = pca.transform(X_test)"
   ]
  },
  {
   "cell_type": "code",
   "execution_count": 174,
   "id": "302446cc",
   "metadata": {},
   "outputs": [
    {
     "data": {
      "text/plain": [
       "(112, 2)"
      ]
     },
     "execution_count": 174,
     "metadata": {},
     "output_type": "execute_result"
    }
   ],
   "source": [
    "principal_components_train.shape"
   ]
  },
  {
   "cell_type": "code",
   "execution_count": 175,
   "id": "85c309cb",
   "metadata": {},
   "outputs": [],
   "source": [
    "pca_df = pd.DataFrame(data = (np.hstack((principal_components_train, y_train[:, np.newaxis]))),\n",
    "             columns = ['PC1', 'PC2', 'target numerical'])"
   ]
  },
  {
   "cell_type": "code",
   "execution_count": 176,
   "id": "5cff5874",
   "metadata": {
    "scrolled": false
   },
   "outputs": [
    {
     "data": {
      "image/png": "[encoded data removed]",
      "text/plain": [
       "<Figure size 576x576 with 1 Axes>"
      ]
     },
     "metadata": {
      "needs_background": "light"
     },
     "output_type": "display_data"
    }
   ],
   "source": [
    "fig = plt.figure(figsize = (8,8))\n",
    "ax = fig.add_subplot(1,1,1) \n",
    "ax.set_xlabel('Principal Component 1', fontsize = 15)\n",
    "ax.set_ylabel('Principal Component 2', fontsize = 15)\n",
    "ax.set_title('2 component PCA', fontsize = 20)\n",
    "targets = [0,1,2]\n",
    "colors = ['r', 'g', 'b']\n",
    "for target, color in zip(targets,colors):\n",
    "    indicesToKeep = pca_df['target numerical'] == target\n",
    "    ax.scatter(pca_df.loc[indicesToKeep, 'PC1']\n",
    "               , pca_df.loc[indicesToKeep, 'PC2']\n",
    "               , c = color\n",
    "               , s = 50)\n",
    "ax.legend(targets)\n",
    "ax.grid()"
   ]
  },
  {
   "cell_type": "markdown",
   "id": "87a1e586",
   "metadata": {},
   "source": [
    "Co sądzisz o powyższym wykresie? Czy dwie składowe wystarczają do poprawnego odróżnienia od siebie wszystkich trzech gatunków?\n",
    "\n",
    "Możemy też sprawdzić, jaki procent zmienności jest wyjaśniany przez poszczególne składowe. To nam pomoże w podjęciu decyzji, ile składowych jest potrzebnych.\n",
    "\n",
    "Zasada jest taka, że pierwsza składowa zawsze wyjaśnia największą część zmienności, a każda kolejna coraz mniejszą."
   ]
  },
  {
   "cell_type": "code",
   "execution_count": 177,
   "id": "56fc0846",
   "metadata": {},
   "outputs": [
    {
     "data": {
      "text/plain": [
       "array([0.73799433, 0.22216601])"
      ]
     },
     "execution_count": 177,
     "metadata": {},
     "output_type": "execute_result"
    }
   ],
   "source": [
    "pca.explained_variance_ratio_"
   ]
  },
  {
   "cell_type": "markdown",
   "id": "c9455cfc",
   "metadata": {},
   "source": [
    "Z powyższych wartości wynika, że pierwsza składowa wyjaśnia ok. 74% zmienności, a druga ok. 22%. Pozostałe ok. 4% są wyjaśniane przez dalsze składowe.\n",
    "\n",
    "Jeżeli stosujemy PCA do redukcji wymiarowości, to zawsze będziemy musieli odrzucić część składowych i nowe parametry opisujące obiekty (bazujące na wybranych składowych głównych) nigdy nie będą wyjaśniać całej zmienności zawartej w oryginalnym zbiorze danych."
   ]
  },
  {
   "cell_type": "markdown",
   "id": "e9d17c2c",
   "metadata": {},
   "source": [
    "Teraz spróbuj zastosować PCA do redukcji wymiarowości danych akustycznych.\n",
    "\n",
    "Na początek wyekstrahuj 13 MFCC oraz policz ich pierwszą i drugą pochodną (ponieżej jest fragment kodu pokazujący, jak to zrobić) z dowolnego sygnału z poprzednich zajęć. Pierwsza pochodna jest określana jako delta, a druga jako delta^2 lub czasem delta delta (często \n",
    "oznaczane odpowiednimi symbolami greckimi)."
   ]
  },
  {
   "cell_type": "code",
   "execution_count": 178,
   "id": "bbf1cdc7",
   "metadata": {},
   "outputs": [
    {
     "name": "stderr",
     "output_type": "stream",
     "text": [
      "C:\\Users\\jakub\\AppData\\Local\\Temp\\ipykernel_6812\\3851419815.py:10: FutureWarning: Pass y=[0.00058996 0.00120533 0.00134682 ... 0.00055961 0.00025699 0.        ] as keyword args. From version 0.10 passing these as positional arguments will result in an error\n",
      "  mfcc_features = librosa.feature.mfcc(x, sr=fs, n_mfcc=13)\n"
     ]
    },
    {
     "data": {
      "text/plain": [
       "(13, 88)"
      ]
     },
     "execution_count": 178,
     "metadata": {},
     "output_type": "execute_result"
    }
   ],
   "source": [
    "import librosa\n",
    "import librosa.display\n",
    "from sklearn import tree\n",
    "from os import listdir\n",
    "pliki = listdir('dane_testowe/')\n",
    "pliki = ['dane_testowe/'+x for x in pliki]\n",
    "pliki.sort()\n",
    "\n",
    "x, fs = librosa.load(pliki[0])\n",
    "mfcc_features = librosa.feature.mfcc(x, sr=fs, n_mfcc=13)\n",
    "mfcc_delta = librosa.feature.delta(mfcc_features)\n",
    "mfcc_delta2 = librosa.feature.delta(mfcc_features, order=2)\n",
    "mfcc_delta.shape"
   ]
  },
  {
   "cell_type": "markdown",
   "id": "2d377afa",
   "metadata": {},
   "source": [
    "Wyświetl MFCC oraz obie pochodne, żeby zobaczyć, jak wyglądają (kod wzięty z dokumentacji: https://librosa.org/doc/main/generated/librosa.feature.delta.html)"
   ]
  },
  {
   "cell_type": "code",
   "execution_count": 179,
   "id": "3d690d9e",
   "metadata": {},
   "outputs": [
    {
     "data": {
      "text/plain": [
       "<matplotlib.colorbar.Colorbar at 0x1749e312140>"
      ]
     },
     "execution_count": 179,
     "metadata": {},
     "output_type": "execute_result"
    },
    {
     "data": {
      "image/png": "[encoded data removed]",
      "text/plain": [
       "<Figure size 432x288 with 6 Axes>"
      ]
     },
     "metadata": {
      "needs_background": "light"
     },
     "output_type": "display_data"
    }
   ],
   "source": [
    "fig, ax = plt.subplots(nrows=3, sharex=True, sharey=True)\n",
    "img1 = librosa.display.specshow(mfcc_features, ax=ax[0], x_axis='time')\n",
    "ax[0].set(title='MFCC')\n",
    "ax[0].label_outer()\n",
    "img2 = librosa.display.specshow(mfcc_delta, ax=ax[1], x_axis='time')\n",
    "ax[1].set(title=r'MFCC-$\\Delta$')\n",
    "ax[1].label_outer()\n",
    "img3 = librosa.display.specshow(mfcc_delta2, ax=ax[2], x_axis='time')\n",
    "ax[2].set(title=r'MFCC-$\\Delta^2$')\n",
    "fig.colorbar(img1, ax=[ax[0]])\n",
    "fig.colorbar(img2, ax=[ax[1]])\n",
    "fig.colorbar(img3, ax=[ax[2]])"
   ]
  },
  {
   "cell_type": "markdown",
   "id": "ea5c6d92",
   "metadata": {},
   "source": [
    "Wylicz MFCC oraz obie pochodne dla sygnałów z folderu dane_testowe. Pamiętaj, żeby wszystkie cechy dodać do jednej macierzy (dla każdego sygnału macierz powinna mieć wymiary 39 x liczba_ramek). Ponieważ sygnały mają różną długość, znajdź liczbę ramek najkrótszego z nich i odpowiednio skróć macierze cech pozostałych sygnałów."
   ]
  },
  {
   "cell_type": "code",
   "execution_count": 180,
   "id": "a7a7c9ab",
   "metadata": {},
   "outputs": [
    {
     "name": "stderr",
     "output_type": "stream",
     "text": [
      "C:\\Users\\jakub\\AppData\\Local\\Temp\\ipykernel_6812\\3568094300.py:4: FutureWarning: Pass y=[0.00058996 0.00120533 0.00134682 ... 0.05039958 0.04843636 0.04549405] as keyword args. From version 0.10 passing these as positional arguments will result in an error\n",
      "  mfccs = np.stack([librosa.feature.mfcc(x).flatten() for x in wavs])\n",
      "C:\\Users\\jakub\\AppData\\Local\\Temp\\ipykernel_6812\\3568094300.py:4: FutureWarning: Pass y=[-0.01685113 -0.02027931 -0.0155162  ...  0.16223633  0.16703966\n",
      "  0.17554922] as keyword args. From version 0.10 passing these as positional arguments will result in an error\n",
      "  mfccs = np.stack([librosa.feature.mfcc(x).flatten() for x in wavs])\n",
      "C:\\Users\\jakub\\AppData\\Local\\Temp\\ipykernel_6812\\3568094300.py:4: FutureWarning: Pass y=[0.006701   0.01092137 0.01110163 ... 0.50559765 0.47933006 0.45564932] as keyword args. From version 0.10 passing these as positional arguments will result in an error\n",
      "  mfccs = np.stack([librosa.feature.mfcc(x).flatten() for x in wavs])\n",
      "C:\\Users\\jakub\\AppData\\Local\\Temp\\ipykernel_6812\\3568094300.py:4: FutureWarning: Pass y=[-0.00628849 -0.00750224 -0.0054062  ...  0.0094801   0.01079462\n",
      "  0.00880842] as keyword args. From version 0.10 passing these as positional arguments will result in an error\n",
      "  mfccs = np.stack([librosa.feature.mfcc(x).flatten() for x in wavs])\n",
      "C:\\Users\\jakub\\AppData\\Local\\Temp\\ipykernel_6812\\3568094300.py:4: FutureWarning: Pass y=[ 1.25748456e-05  1.83992845e-04 -6.53528696e-05 ... -9.53880847e-02\n",
      " -1.04238406e-01 -1.13574423e-01] as keyword args. From version 0.10 passing these as positional arguments will result in an error\n",
      "  mfccs = np.stack([librosa.feature.mfcc(x).flatten() for x in wavs])\n",
      "C:\\Users\\jakub\\AppData\\Local\\Temp\\ipykernel_6812\\3568094300.py:4: FutureWarning: Pass y=[-0.00784578 -0.01026181 -0.00935938 ... -0.102904   -0.13449857\n",
      " -0.14418958] as keyword args. From version 0.10 passing these as positional arguments will result in an error\n",
      "  mfccs = np.stack([librosa.feature.mfcc(x).flatten() for x in wavs])\n",
      "C:\\Users\\jakub\\AppData\\Local\\Temp\\ipykernel_6812\\3568094300.py:4: FutureWarning: Pass y=[0.01801655 0.02035005 0.01753129 ... 0.05581112 0.04509423 0.03145901] as keyword args. From version 0.10 passing these as positional arguments will result in an error\n",
      "  mfccs = np.stack([librosa.feature.mfcc(x).flatten() for x in wavs])\n",
      "C:\\Users\\jakub\\AppData\\Local\\Temp\\ipykernel_6812\\3568094300.py:4: FutureWarning: Pass y=[-0.0495031  -0.09735265 -0.13250662 ...  0.54361486  0.5032252\n",
      "  0.39866406] as keyword args. From version 0.10 passing these as positional arguments will result in an error\n",
      "  mfccs = np.stack([librosa.feature.mfcc(x).flatten() for x in wavs])\n",
      "C:\\Users\\jakub\\AppData\\Local\\Temp\\ipykernel_6812\\3568094300.py:4: FutureWarning: Pass y=[-0.0222217  -0.03572705 -0.03653651 ...  0.14879097  0.17438744\n",
      "  0.18261875] as keyword args. From version 0.10 passing these as positional arguments will result in an error\n",
      "  mfccs = np.stack([librosa.feature.mfcc(x).flatten() for x in wavs])\n",
      "C:\\Users\\jakub\\AppData\\Local\\Temp\\ipykernel_6812\\3568094300.py:4: FutureWarning: Pass y=[ 0.00011026  0.00023247  0.0001359  ... -0.03734723 -0.03799021\n",
      " -0.0396771 ] as keyword args. From version 0.10 passing these as positional arguments will result in an error\n",
      "  mfccs = np.stack([librosa.feature.mfcc(x).flatten() for x in wavs])\n",
      "C:\\Users\\jakub\\AppData\\Local\\Temp\\ipykernel_6812\\3568094300.py:4: FutureWarning: Pass y=[ 0.04498906  0.09400555  0.12358238 ... -0.21608989 -0.20639032\n",
      " -0.19956955] as keyword args. From version 0.10 passing these as positional arguments will result in an error\n",
      "  mfccs = np.stack([librosa.feature.mfcc(x).flatten() for x in wavs])\n",
      "C:\\Users\\jakub\\AppData\\Local\\Temp\\ipykernel_6812\\3568094300.py:4: FutureWarning: Pass y=[-0.0096568  -0.02655393 -0.04597561 ...  0.37923566  0.37423766\n",
      "  0.36385414] as keyword args. From version 0.10 passing these as positional arguments will result in an error\n",
      "  mfccs = np.stack([librosa.feature.mfcc(x).flatten() for x in wavs])\n",
      "C:\\Users\\jakub\\AppData\\Local\\Temp\\ipykernel_6812\\3568094300.py:4: FutureWarning: Pass y=[ 0.00210838  0.00213264  0.00174894 ... -0.00559524 -0.0057493\n",
      " -0.00564403] as keyword args. From version 0.10 passing these as positional arguments will result in an error\n",
      "  mfccs = np.stack([librosa.feature.mfcc(x).flatten() for x in wavs])\n",
      "C:\\Users\\jakub\\AppData\\Local\\Temp\\ipykernel_6812\\3568094300.py:4: FutureWarning: Pass y=[ 0.00236974  0.00374456  0.00350514 ... -0.00898824 -0.0090572\n",
      " -0.00891553] as keyword args. From version 0.10 passing these as positional arguments will result in an error\n",
      "  mfccs = np.stack([librosa.feature.mfcc(x).flatten() for x in wavs])\n",
      "C:\\Users\\jakub\\AppData\\Local\\Temp\\ipykernel_6812\\3568094300.py:4: FutureWarning: Pass y=[-0.05683303 -0.08712601 -0.0661143  ... -0.06066066 -0.07189734\n",
      " -0.08268075] as keyword args. From version 0.10 passing these as positional arguments will result in an error\n",
      "  mfccs = np.stack([librosa.feature.mfcc(x).flatten() for x in wavs])\n",
      "C:\\Users\\jakub\\AppData\\Local\\Temp\\ipykernel_6812\\3568094300.py:4: FutureWarning: Pass y=[-0.16170776 -0.25050804 -0.22513057 ...  0.03521914  0.06020815\n",
      "  0.09175372] as keyword args. From version 0.10 passing these as positional arguments will result in an error\n",
      "  mfccs = np.stack([librosa.feature.mfcc(x).flatten() for x in wavs])\n",
      "C:\\Users\\jakub\\AppData\\Local\\Temp\\ipykernel_6812\\3568094300.py:4: FutureWarning: Pass y=[ 0.02480403 -0.07600169 -0.23287396 ...  0.18729818  0.2001262\n",
      "  0.20907421] as keyword args. From version 0.10 passing these as positional arguments will result in an error\n",
      "  mfccs = np.stack([librosa.feature.mfcc(x).flatten() for x in wavs])\n",
      "C:\\Users\\jakub\\AppData\\Local\\Temp\\ipykernel_6812\\3568094300.py:4: FutureWarning: Pass y=[-0.00681709 -0.00765087 -0.00620553 ...  0.03103084  0.01720771\n",
      "  0.00192872] as keyword args. From version 0.10 passing these as positional arguments will result in an error\n",
      "  mfccs = np.stack([librosa.feature.mfcc(x).flatten() for x in wavs])\n",
      "C:\\Users\\jakub\\AppData\\Local\\Temp\\ipykernel_6812\\3568094300.py:4: FutureWarning: Pass y=[-0.09077876 -0.14632736 -0.14207597 ... -0.14376862 -0.1436548\n",
      " -0.14369164] as keyword args. From version 0.10 passing these as positional arguments will result in an error\n",
      "  mfccs = np.stack([librosa.feature.mfcc(x).flatten() for x in wavs])\n",
      "C:\\Users\\jakub\\AppData\\Local\\Temp\\ipykernel_6812\\3568094300.py:4: FutureWarning: Pass y=[0.13802777 0.2036704  0.174482   ... 0.12577961 0.15335369 0.18441302] as keyword args. From version 0.10 passing these as positional arguments will result in an error\n",
      "  mfccs = np.stack([librosa.feature.mfcc(x).flatten() for x in wavs])\n",
      "C:\\Users\\jakub\\AppData\\Local\\Temp\\ipykernel_6812\\3568094300.py:4: FutureWarning: Pass y=[-0.00538578 -0.00846034 -0.00755911 ...  0.04280246  0.05633462\n",
      "  0.06842507] as keyword args. From version 0.10 passing these as positional arguments will result in an error\n",
      "  mfccs = np.stack([librosa.feature.mfcc(x).flatten() for x in wavs])\n",
      "C:\\Users\\jakub\\AppData\\Local\\Temp\\ipykernel_6812\\3568094300.py:4: FutureWarning: Pass y=[-0.02141582 -0.0286224  -0.01818252 ...  0.10984132  0.1162406\n",
      "  0.12502222] as keyword args. From version 0.10 passing these as positional arguments will result in an error\n",
      "  mfccs = np.stack([librosa.feature.mfcc(x).flatten() for x in wavs])\n",
      "C:\\Users\\jakub\\AppData\\Local\\Temp\\ipykernel_6812\\3568094300.py:4: FutureWarning: Pass y=[-0.00771638 -0.01229906 -0.01283278 ... -0.06511471 -0.06318709\n",
      " -0.05956943] as keyword args. From version 0.10 passing these as positional arguments will result in an error\n",
      "  mfccs = np.stack([librosa.feature.mfcc(x).flatten() for x in wavs])\n",
      "C:\\Users\\jakub\\AppData\\Local\\Temp\\ipykernel_6812\\3568094300.py:4: FutureWarning: Pass y=[0.00118365 0.0021414  0.0023502  ... 0.00805809 0.00778938 0.00704196] as keyword args. From version 0.10 passing these as positional arguments will result in an error\n",
      "  mfccs = np.stack([librosa.feature.mfcc(x).flatten() for x in wavs])\n",
      "C:\\Users\\jakub\\AppData\\Local\\Temp\\ipykernel_6812\\3568094300.py:4: FutureWarning: Pass y=[-0.00016085 -0.00042155 -0.00063173 ...  0.1077042   0.10841773\n",
      "  0.11159074] as keyword args. From version 0.10 passing these as positional arguments will result in an error\n",
      "  mfccs = np.stack([librosa.feature.mfcc(x).flatten() for x in wavs])\n",
      "C:\\Users\\jakub\\AppData\\Local\\Temp\\ipykernel_6812\\3568094300.py:4: FutureWarning: Pass y=[ 1.3402435e-04  8.3646846e-05 -9.1208385e-05 ...  3.6939524e-02\n",
      "  3.8518723e-02  4.2452633e-02] as keyword args. From version 0.10 passing these as positional arguments will result in an error\n",
      "  mfccs = np.stack([librosa.feature.mfcc(x).flatten() for x in wavs])\n",
      "C:\\Users\\jakub\\AppData\\Local\\Temp\\ipykernel_6812\\3568094300.py:4: FutureWarning: Pass y=[-0.15434542 -0.2630985  -0.29574534 ... -0.21123551 -0.06192249\n",
      "  0.        ] as keyword args. From version 0.10 passing these as positional arguments will result in an error\n",
      "  mfccs = np.stack([librosa.feature.mfcc(x).flatten() for x in wavs])\n",
      "C:\\Users\\jakub\\AppData\\Local\\Temp\\ipykernel_6812\\3568094300.py:4: FutureWarning: Pass y=[ 0.02659936  0.04724959  0.04870551 ... -0.13000077 -0.12130761\n",
      " -0.1099992 ] as keyword args. From version 0.10 passing these as positional arguments will result in an error\n",
      "  mfccs = np.stack([librosa.feature.mfcc(x).flatten() for x in wavs])\n",
      "C:\\Users\\jakub\\AppData\\Local\\Temp\\ipykernel_6812\\3568094300.py:4: FutureWarning: Pass y=[ 0.01322874  0.01576453  0.0125363  ... -0.0179269  -0.02040414\n",
      " -0.01988445] as keyword args. From version 0.10 passing these as positional arguments will result in an error\n",
      "  mfccs = np.stack([librosa.feature.mfcc(x).flatten() for x in wavs])\n",
      "C:\\Users\\jakub\\AppData\\Local\\Temp\\ipykernel_6812\\3568094300.py:4: FutureWarning: Pass y=[ 0.00074903  0.00104896  0.00101031 ... -0.00954133 -0.00822205\n",
      " -0.00741593] as keyword args. From version 0.10 passing these as positional arguments will result in an error\n",
      "  mfccs = np.stack([librosa.feature.mfcc(x).flatten() for x in wavs])\n",
      "C:\\Users\\jakub\\AppData\\Local\\Temp\\ipykernel_6812\\3568094300.py:4: FutureWarning: Pass y=[-0.16211902 -0.25074556 -0.2268771  ...  0.00584025  0.01361378\n",
      "  0.02086878] as keyword args. From version 0.10 passing these as positional arguments will result in an error\n",
      "  mfccs = np.stack([librosa.feature.mfcc(x).flatten() for x in wavs])\n",
      "C:\\Users\\jakub\\AppData\\Local\\Temp\\ipykernel_6812\\3568094300.py:4: FutureWarning: Pass y=[-0.10086352 -0.16839619 -0.18158679 ...  0.18577954  0.20067476\n",
      "  0.21578337] as keyword args. From version 0.10 passing these as positional arguments will result in an error\n",
      "  mfccs = np.stack([librosa.feature.mfcc(x).flatten() for x in wavs])\n",
      "C:\\Users\\jakub\\AppData\\Local\\Temp\\ipykernel_6812\\3568094300.py:4: FutureWarning: Pass y=[ 0.1512564   0.25044483  0.25531408 ... -0.13872318 -0.13487458\n",
      " -0.13003905] as keyword args. From version 0.10 passing these as positional arguments will result in an error\n",
      "  mfccs = np.stack([librosa.feature.mfcc(x).flatten() for x in wavs])\n",
      "C:\\Users\\jakub\\AppData\\Local\\Temp\\ipykernel_6812\\3568094300.py:4: FutureWarning: Pass y=[0.0019159  0.00304344 0.00286047 ... 0.01376303 0.00757907 0.00528653] as keyword args. From version 0.10 passing these as positional arguments will result in an error\n",
      "  mfccs = np.stack([librosa.feature.mfcc(x).flatten() for x in wavs])\n",
      "C:\\Users\\jakub\\AppData\\Local\\Temp\\ipykernel_6812\\3568094300.py:4: FutureWarning: Pass y=[-0.13452367 -0.22045475 -0.22653966 ... -0.2086852  -0.19474347\n",
      " -0.17347974] as keyword args. From version 0.10 passing these as positional arguments will result in an error\n",
      "  mfccs = np.stack([librosa.feature.mfcc(x).flatten() for x in wavs])\n",
      "C:\\Users\\jakub\\AppData\\Local\\Temp\\ipykernel_6812\\3568094300.py:4: FutureWarning: Pass y=[-0.00164908 -0.00281267 -0.00240547 ...  0.04144881  0.04715965\n",
      "  0.05830975] as keyword args. From version 0.10 passing these as positional arguments will result in an error\n",
      "  mfccs = np.stack([librosa.feature.mfcc(x).flatten() for x in wavs])\n",
      "C:\\Users\\jakub\\AppData\\Local\\Temp\\ipykernel_6812\\3568094300.py:4: FutureWarning: Pass y=[-0.15822142 -0.24698366 -0.22923207 ...  0.22821355  0.19487248\n",
      "  0.16034602] as keyword args. From version 0.10 passing these as positional arguments will result in an error\n",
      "  mfccs = np.stack([librosa.feature.mfcc(x).flatten() for x in wavs])\n",
      "C:\\Users\\jakub\\AppData\\Local\\Temp\\ipykernel_6812\\3568094300.py:4: FutureWarning: Pass y=[-0.05992102 -0.09669647 -0.09421872 ... -0.01866983 -0.01620896\n",
      " -0.01418345] as keyword args. From version 0.10 passing these as positional arguments will result in an error\n",
      "  mfccs = np.stack([librosa.feature.mfcc(x).flatten() for x in wavs])\n",
      "C:\\Users\\jakub\\AppData\\Local\\Temp\\ipykernel_6812\\3568094300.py:4: FutureWarning: Pass y=[ 0.02272365  0.02664142  0.02137595 ... -0.00971653 -0.01218981\n",
      " -0.01815681] as keyword args. From version 0.10 passing these as positional arguments will result in an error\n",
      "  mfccs = np.stack([librosa.feature.mfcc(x).flatten() for x in wavs])\n"
     ]
    },
    {
     "data": {
      "text/plain": [
       "(39, 720)"
      ]
     },
     "execution_count": 180,
     "metadata": {},
     "output_type": "execute_result"
    }
   ],
   "source": [
    "wavs = list(map(lambda x: librosa.load(x)[0], pliki))\n",
    "min_len = min(map(lambda x: x.shape[-1], wavs))\n",
    "wavs = np.stack([x[0:min_len] for x in wavs])\n",
    "mfccs = np.stack([librosa.feature.mfcc(x).flatten() for x in wavs])\n",
    "delta = [librosa.feature.delta(x) for x in mfccs]\n",
    "delta2 = [librosa.feature.delta(x, order=2) for x in mfccs]\n",
    "\n",
    "labels = []\n",
    "for i in pliki:\n",
    "    if i.__contains__('phrase'):\n",
    "        labels.append(1)\n",
    "        continue\n",
    "    labels.append(0)\n",
    "mfccs.shape\n",
    "\n"
   ]
  },
  {
   "cell_type": "markdown",
   "id": "c9d2e9bf",
   "metadata": {},
   "source": [
    "Podziel dane na zbiór uczący i testowy i przeprowadź klasyfikację. Wylicz też metryki."
   ]
  },
  {
   "cell_type": "code",
   "execution_count": 181,
   "id": "baf71973",
   "metadata": {},
   "outputs": [
    {
     "name": "stdout",
     "output_type": "stream",
     "text": [
      "sukces mfcc: 0.8025\n",
      " time: 0.408098500000051\n",
      "sukces delta: 0.8775\n",
      " time: 0.3438354000008985\n",
      "sukces delta2: 0.89375\n",
      " time: 0.3604467000004661\n"
     ]
    }
   ],
   "source": [
    "def test(dane):\n",
    "    X_train, X_test, Y_train, Y_test = train_test_split(dane, labels, test_size=0.2)\n",
    "    clf = tree.DecisionTreeClassifier()\n",
    "    clf.fit(X_train, Y_train)\n",
    "    return clf.predict(X_test), Y_test\n",
    "\n",
    "good = 0\n",
    "bad = 0\n",
    "test_size = 100\n",
    "tic = time.perf_counter()\n",
    "for i in range(0, test_size):\n",
    "    p, t = test(mfccs)\n",
    "    for j in range(0, len(p)):\n",
    "        if p[j] == t[j]:\n",
    "            good=good+1\n",
    "            continue\n",
    "        bad = bad+1\n",
    "toc = time.perf_counter()\n",
    "print('sukces mfcc: '+ str(good/(good+bad)))\n",
    "print(' time: '+ str(toc-tic))\n",
    "\n",
    "good = 0\n",
    "bad = 0\n",
    "test_size = 100\n",
    "tic = time.perf_counter()\n",
    "for i in range(0, test_size):\n",
    "    p, t = test(delta)\n",
    "    for j in range(0, len(p)):\n",
    "        if p[j] == t[j]:\n",
    "            good=good+1\n",
    "            continue\n",
    "        bad = bad+1\n",
    "toc = time.perf_counter()\n",
    "print('sukces delta: '+ str(good/(good+bad)))\n",
    "print(' time: '+ str(toc-tic))\n",
    "\n",
    "good = 0\n",
    "bad = 0\n",
    "test_size = 100\n",
    "tic = time.perf_counter()\n",
    "for i in range(0, test_size):\n",
    "    p, t = test(delta2)\n",
    "    for j in range(0, len(p)):\n",
    "        if p[j] == t[j]:\n",
    "            good=good+1\n",
    "            continue\n",
    "        bad = bad+1\n",
    "toc = time.perf_counter()\n",
    "print('sukces delta2: '+ str(good/(good+bad)))\n",
    "print(' time: '+ str(toc-tic))\n",
    "\n"
   ]
  },
  {
   "cell_type": "markdown",
   "id": "8668cc9b",
   "metadata": {},
   "source": [
    "Teraz na zbiorze uczącym i testowym zastosuj PCA. Na początek weź dość dużą liczbę składowych, żeby zobaczyć, ile będzie nam potrzebnych do wyjaśnienia łącznie co najmniej 90% zmienności."
   ]
  },
  {
   "cell_type": "code",
   "execution_count": 182,
   "id": "b9edc904",
   "metadata": {},
   "outputs": [
    {
     "name": "stdout",
     "output_type": "stream",
     "text": [
      "0.907148209400475\n",
      "14\n"
     ]
    }
   ],
   "source": [
    "X_train, X_test, Y_train, Y_test = train_test_split(mfccs, labels, test_size=0.2)\n",
    "i = 0\n",
    "ratio = 0\n",
    "while ratio < 0.9:\n",
    "    i = i+1\n",
    "    pca = PCA(n_components=i) #bierzemy dwie składowe, żeby łatwo było zwizualizować wyniki\n",
    "    principal_components_train = pca.fit_transform(X_train)\n",
    "    principal_components_test = pca.transform(X_test)\n",
    "    ratio = pca.explained_variance_ratio_\n",
    "    ratio = sum(ratio)\n",
    "    #print(i)\n",
    "    #print(ratio)\n",
    "print(ratio)\n",
    "print(i)"
   ]
  },
  {
   "cell_type": "markdown",
   "id": "1ad4d645",
   "metadata": {},
   "source": [
    "Weź odpowiednią liczbę składowych głównych i przeprowadzić klasyfikację oraz wylicz metryki. Jak zmieniły się wyniki względem tych uzyskanych pierwszym klasyfikatorem?"
   ]
  },
  {
   "cell_type": "code",
   "execution_count": 183,
   "id": "8b83e3ef",
   "metadata": {},
   "outputs": [
    {
     "name": "stdout",
     "output_type": "stream",
     "text": [
      "sukces mfcc: 0.92625\n",
      " time: 1.006470399999671\n",
      "sukces delta: 0.96125\n",
      " time: 1.0522048000002542\n",
      "sukces delta2: 0.94875\n",
      " time: 1.0319149000006291\n"
     ]
    }
   ],
   "source": [
    "pca = PCA(n_components=14) #bierzemy dwie składowe, żeby łatwo było zwizualizować wyniki\n",
    "def test_PCA(dane):\n",
    "    X_train, X_test, Y_train, Y_test = train_test_split(dane, labels, test_size=0.2)\n",
    "    principal_components_train = pca.fit_transform(X_train)\n",
    "    principal_components_test = pca.transform(X_test)\n",
    "    clf = tree.DecisionTreeClassifier()\n",
    "    clf.fit(principal_components_train, Y_train)\n",
    "    return clf.predict(principal_components_test), Y_test\n",
    "\n",
    "good = 0\n",
    "bad = 0\n",
    "test_size = 100\n",
    "tic = time.perf_counter()\n",
    "for i in range(0, test_size):\n",
    "    p, t = test_PCA(mfccs)\n",
    "    for j in range(0, len(p)):\n",
    "        if p[j] == t[j]:\n",
    "            good=good+1\n",
    "            continue\n",
    "        bad = bad+1\n",
    "toc = time.perf_counter()\n",
    "print('sukces mfcc: '+ str(good/(good+bad)))\n",
    "print(' time: '+ str(toc-tic))\n",
    "\n",
    "good = 0\n",
    "bad = 0\n",
    "test_size = 100\n",
    "tic = time.perf_counter()\n",
    "for i in range(0, test_size):\n",
    "    p, t = test_PCA(delta)\n",
    "    for j in range(0, len(p)):\n",
    "        if p[j] == t[j]:\n",
    "            good=good+1\n",
    "            continue\n",
    "        bad = bad+1\n",
    "toc = time.perf_counter()\n",
    "print('sukces delta: '+ str(good/(good+bad)))\n",
    "print(' time: '+ str(toc-tic))\n",
    "\n",
    "good = 0\n",
    "bad = 0\n",
    "test_size = 100\n",
    "tic = time.perf_counter()\n",
    "for i in range(0, test_size):\n",
    "    p, t = test_PCA(delta2)\n",
    "    for j in range(0, len(p)):\n",
    "        if p[j] == t[j]:\n",
    "            good=good+1\n",
    "            continue\n",
    "        bad = bad+1\n",
    "toc = time.perf_counter()\n",
    "print('sukces delta2: '+ str(good/(good+bad)))\n",
    "print(' time: '+ str(toc-tic))"
   ]
  },
  {
   "cell_type": "code",
   "execution_count": null,
   "id": "8db4ee03",
   "metadata": {},
   "outputs": [],
   "source": []
  }
 ],
 "metadata": {
  "kernelspec": {
   "display_name": "Python 3.10.2 64-bit",
   "language": "python",
   "name": "python3"
  },
  "language_info": {
   "codemirror_mode": {
    "name": "ipython",
    "version": 3
   },
   "file_extension": ".py",
   "mimetype": "text/x-python",
   "name": "python",
   "nbconvert_exporter": "python",
   "pygments_lexer": "ipython3",
   "version": "3.10.2"
  },
  "vscode": {
   "interpreter": {
    "hash": "f0cf854484826becf69b9363a35f769a3f32573db803431254cc95fc20fb81b2"
   }
  }
 },
 "nbformat": 4,
 "nbformat_minor": 5
}
