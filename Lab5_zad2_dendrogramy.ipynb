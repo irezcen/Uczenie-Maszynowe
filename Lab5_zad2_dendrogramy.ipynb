{
 "cells": [
  {
   "cell_type": "markdown",
   "metadata": {},
   "source": [
    "W tym zadaniu zapoznamy się z inną metodą klasteryzacji, czyli grupowaniem hierarchicznym. Będziemy zajmować się metoda deaglomeracyjną.\n",
    "\n",
    "Zacznijmy od jej przeciwieństwa, czyli metody aglomeracyjnej. Metoda aglomeracyjna polega na tym, że początkowo każdy obiekt tworzy osobny klaster (skupienie). Następnie dwa najbliższe skupienia (pod względem wybranej metryki odległości) scalane są w jeden klaser i taka operacja jest powtarzana do momentu, aż powstanie jedno duże skupienie zawierające wszystkie dane. \n",
    "\n",
    "Metoda deaglomeracyjna polega na przeciwnym postępowaniu - najpierw wszystkie obiekty znajdują się w jednym skupieniu, a następnie dzielimy je na mniejsze zawierające najbardziej podobne do siebie obiekty, aż dojdziemy do momentu, gdy w każdym skupieniu znajduje się tylko jeden obiekt. Wynik takiego podziału przedstawia się w postaci tzw. dendrogramu - wykresu, który przedstawia hierarchię skupień (przykładowy dendrogram znajduje się w dalejszej części zadania).\n",
    "\n",
    "Dendrogram może zostać \"przycięty\" na wybranej wysokości. W tym celu wybieramy liczbę poziomów, które chcemy przedstawić na wykresie (licząc od góry, czyli od największego skupienia). Pod wykresem można podpisać, ile obiektów znajduje się w każdym skupieniu."
   ]
  },
  {
   "cell_type": "code",
   "execution_count": 36,
   "metadata": {},
   "outputs": [],
   "source": [
    "import pandas as pd\n",
    "import numpy as np\n",
    "from matplotlib import pyplot as plt"
   ]
  },
  {
   "cell_type": "code",
   "execution_count": 37,
   "metadata": {},
   "outputs": [],
   "source": [
    "feats_col_list = [0,1,2,3,4,5,6,7,8]\n",
    "feats_df = pd.read_csv(\"fma_metadata/echonest.csv\", usecols=feats_col_list, low_memory=False, header=2) \n",
    "feats_df.rename(columns={'Unnamed: 0': 'track_id'}, inplace=True)\n",
    "feats_df. dropna(inplace=True)\n",
    "feats_df.reset_index(drop = True, inplace=True)\n",
    "\n",
    "genre_col_list = [0,40]\n",
    "genre_df = pd.read_csv(\"fma_metadata/tracks.csv\", usecols=genre_col_list, low_memory=False, header=1)\n",
    "genre_df.rename(columns={'Unnamed: 0': 'track_id'}, inplace=True)\n",
    "genre_df.dropna(inplace=True)\n",
    "genre_df.reset_index(drop = True, inplace=True)\n",
    "\n",
    "labels_dict = {value: index for index, value in enumerate(genre_df[\"genre_top\"].unique())}\n",
    "genre_df['genre_numeric_label'] = [labels_dict[genre_df[\"genre_top\"][i]]for i in genre_df.index]\n",
    "\n",
    "all_data_df = pd.merge(feats_df, genre_df, on='track_id')\n",
    "\n",
    "feats_names = [\"acousticness\", \"danceability\", \"energy\", \"instrumentalness\", \"liveness\", \"speechiness\", \"tempo\", \"valence\"]"
   ]
  },
  {
   "cell_type": "code",
   "execution_count": 38,
   "metadata": {},
   "outputs": [],
   "source": [
    "from sklearn.preprocessing import StandardScaler\n",
    "\n",
    "scaled_feats = StandardScaler().fit_transform(all_data_df[feats_names])"
   ]
  },
  {
   "cell_type": "markdown",
   "metadata": {},
   "source": [
    "Do narysowania dendrogramu użyjemy funkcji z dokumentacji biblioteki scikit-learn:\n",
    "https://scikit-learn.org/stable/auto_examples/cluster/plot_agglomerative_dendrogram.html#sphx-glr-auto-examples-cluster-plot-agglomerative-dendrogram-py"
   ]
  },
  {
   "cell_type": "code",
   "execution_count": 39,
   "metadata": {},
   "outputs": [
    {
     "name": "stdout",
     "output_type": "stream",
     "text": [
      "(9354, 2)\n"
     ]
    },
    {
     "data": {
      "image/png": "[encoded data removed]",
      "text/plain": [
       "<Figure size 1152x576 with 1 Axes>"
      ]
     },
     "metadata": {
      "needs_background": "light"
     },
     "output_type": "display_data"
    }
   ],
   "source": [
    "from sklearn.cluster import AgglomerativeClustering\n",
    "from scipy.cluster.hierarchy import dendrogram\n",
    "\n",
    "def plot_dendrogram(model, **kwargs):\n",
    "\n",
    "    # zliczanie obiektów w poszczególnych skupieniach\n",
    "    counts = np.zeros(model.children_.shape[0])\n",
    "    n_samples = len(model.labels_)\n",
    "    for i, merge in enumerate(model.children_):\n",
    "        current_count = 0\n",
    "        for child_idx in merge:\n",
    "            if child_idx < n_samples:\n",
    "                current_count += 1  # leaf node\n",
    "            else:\n",
    "                current_count += counts[child_idx - n_samples]\n",
    "        counts[i] = current_count\n",
    "\n",
    "    linkage_matrix = np.column_stack(\n",
    "        [model.children_, model.distances_, counts]\n",
    "    ).astype(float)\n",
    "    print(model.children_.shape)\n",
    "\n",
    "    # rysowanie dendrogramu\n",
    "    dendrogram(linkage_matrix, **kwargs)\n",
    "\n",
    "    \n",
    "model = AgglomerativeClustering(distance_threshold=0, n_clusters=None, affinity='euclidean', linkage='ward')\n",
    "#affinity - metryka, króra będzie użyta do obliczenia odległości między obiektami\n",
    "#distance_threshold=0, n_clusters=None zapewniają podział do momentu, aż w każdym skupieniu będzie znajdował się \n",
    "#tylko 1 obiekt\n",
    "#linkage - metoda tworzenia skupień\n",
    "\n",
    "fig = plt.figure(figsize = (16,8))\n",
    "ax = fig.add_subplot(1,1,1) \n",
    "model = model.fit(scaled_feats)\n",
    "ax.set_title(\"Dendrogram\")\n",
    "\n",
    "# wyświetlimy trzy poziomy dendrogramu\n",
    "dn = plot_dendrogram(model, truncate_mode=\"level\", p=3, labels=all_data_df['genre_numeric_label']) \n",
    "#p - liczba poziomów, na które będą podzielone dane na wyświetlanym wykresie\n",
    "\n",
    "ax.set_xlabel(\"Liczba obiektów w skupieniu (lub indeks obiektu, jeżeli wartość nie jest podana w nawiasach).\")\n",
    "plt.show()"
   ]
  },
  {
   "cell_type": "markdown",
   "metadata": {},
   "source": [
    "Metoda aglomeracyjna może też zwrócić przyporządkowanie do skupień. Żeby je uzyskać, należy użyć poniższego kodu:"
   ]
  },
  {
   "cell_type": "code",
   "execution_count": 40,
   "metadata": {},
   "outputs": [],
   "source": [
    "model = AgglomerativeClustering(n_clusters=16, affinity='euclidean') \n",
    "#n_clusters - liczba skupień, na które chcemy podzielić dane\n",
    "\n",
    "clusters = model.fit_predict(scaled_feats)"
   ]
  },
  {
   "cell_type": "markdown",
   "metadata": {},
   "source": [
    "W zmiennej clusters są zapisane numery skupień, do których przyporządkowane są obiekty. Żeby sprawdzić, czy podział na gatunki muzyczne pokrywa się z tymc co wyszło z analizy aglomeracyjnej, najlepiej będzie dodać obie rzeczy do nowego DataFrame'a:"
   ]
  },
  {
   "cell_type": "code",
   "execution_count": 41,
   "metadata": {
    "scrolled": true
   },
   "outputs": [],
   "source": [
    "dendrogram_clusters_df = pd.DataFrame()\n",
    "dendrogram_clusters_df['track_id'] = all_data_df[\"track_id\"]\n",
    "dendrogram_clusters_df['real genre'] = all_data_df[\"genre_top\"]\n",
    "dendrogram_clusters_df['dendrogram clusters'] = clusters"
   ]
  },
  {
   "cell_type": "markdown",
   "metadata": {},
   "source": [
    "Teraz możemy zastosować filtrację po gatunkach muzycznych i wyświetlić, do ilu skupień zostały przyporządkowane utwory tego gatunku. Poniżej przykład dla muzyki klasycznej."
   ]
  },
  {
   "cell_type": "code",
   "execution_count": 42,
   "metadata": {},
   "outputs": [
    {
     "data": {
      "text/html": [
       "<div>\n",
       "<style scoped>\n",
       "    .dataframe tbody tr th:only-of-type {\n",
       "        vertical-align: middle;\n",
       "    }\n",
       "\n",
       "    .dataframe tbody tr th {\n",
       "        vertical-align: top;\n",
       "    }\n",
       "\n",
       "    .dataframe thead th {\n",
       "        text-align: right;\n",
       "    }\n",
       "</style>\n",
       "<table border=\"1\" class=\"dataframe\">\n",
       "  <thead>\n",
       "    <tr style=\"text-align: right;\">\n",
       "      <th></th>\n",
       "      <th>track_id</th>\n",
       "      <th>real genre</th>\n",
       "      <th>dendrogram clusters</th>\n",
       "    </tr>\n",
       "  </thead>\n",
       "  <tbody>\n",
       "    <tr>\n",
       "      <th>1568</th>\n",
       "      <td>4850</td>\n",
       "      <td>Classical</td>\n",
       "      <td>10</td>\n",
       "    </tr>\n",
       "    <tr>\n",
       "      <th>1569</th>\n",
       "      <td>4851</td>\n",
       "      <td>Classical</td>\n",
       "      <td>10</td>\n",
       "    </tr>\n",
       "    <tr>\n",
       "      <th>2172</th>\n",
       "      <td>10026</td>\n",
       "      <td>Classical</td>\n",
       "      <td>5</td>\n",
       "    </tr>\n",
       "    <tr>\n",
       "      <th>2173</th>\n",
       "      <td>10027</td>\n",
       "      <td>Classical</td>\n",
       "      <td>10</td>\n",
       "    </tr>\n",
       "    <tr>\n",
       "      <th>2174</th>\n",
       "      <td>10028</td>\n",
       "      <td>Classical</td>\n",
       "      <td>5</td>\n",
       "    </tr>\n",
       "    <tr>\n",
       "      <th>2175</th>\n",
       "      <td>10029</td>\n",
       "      <td>Classical</td>\n",
       "      <td>10</td>\n",
       "    </tr>\n",
       "    <tr>\n",
       "      <th>2176</th>\n",
       "      <td>10030</td>\n",
       "      <td>Classical</td>\n",
       "      <td>10</td>\n",
       "    </tr>\n",
       "    <tr>\n",
       "      <th>2177</th>\n",
       "      <td>10031</td>\n",
       "      <td>Classical</td>\n",
       "      <td>4</td>\n",
       "    </tr>\n",
       "    <tr>\n",
       "      <th>2178</th>\n",
       "      <td>10033</td>\n",
       "      <td>Classical</td>\n",
       "      <td>7</td>\n",
       "    </tr>\n",
       "    <tr>\n",
       "      <th>2179</th>\n",
       "      <td>10035</td>\n",
       "      <td>Classical</td>\n",
       "      <td>7</td>\n",
       "    </tr>\n",
       "  </tbody>\n",
       "</table>\n",
       "</div>"
      ],
      "text/plain": [
       "     track_id real genre  dendrogram clusters\n",
       "1568     4850  Classical                   10\n",
       "1569     4851  Classical                   10\n",
       "2172    10026  Classical                    5\n",
       "2173    10027  Classical                   10\n",
       "2174    10028  Classical                    5\n",
       "2175    10029  Classical                   10\n",
       "2176    10030  Classical                   10\n",
       "2177    10031  Classical                    4\n",
       "2178    10033  Classical                    7\n",
       "2179    10035  Classical                    7"
      ]
     },
     "execution_count": 42,
     "metadata": {},
     "output_type": "execute_result"
    }
   ],
   "source": [
    "#Wyświetlamy fragment DataFrame'a z muzyką klasyczną. W pierwszej kolumnie wyświetli się indeks wiersza, \n",
    "#w trzeciej gatunek, a w czwartej nr skupienia\n",
    "dendrogram_clusters_df.loc[dendrogram_clusters_df['real genre'] == 'Classical'].head(10) #wyświtlamy pierwsze 10 wierszy\n",
    "#loc użyte na DataFrame spowoduje zlokaizowanie i wyświetlenie tych wierszy, które spełniają zadany warunek"
   ]
  },
  {
   "cell_type": "code",
   "execution_count": 43,
   "metadata": {},
   "outputs": [
    {
     "data": {
      "text/plain": [
       "array([10,  5,  4,  7, 14,  9,  2], dtype=int64)"
      ]
     },
     "execution_count": 43,
     "metadata": {},
     "output_type": "execute_result"
    }
   ],
   "source": [
    "#sprawdzamy, jakie numery skupień pojawiają się dla utworów klasycznych\n",
    "dendrogram_clusters_df.loc[dendrogram_clusters_df['real genre'] == 'Classical']['dendrogram clusters'].unique()"
   ]
  },
  {
   "cell_type": "markdown",
   "metadata": {},
   "source": [
    "Przeprowadź analogiczną analizę tworząc tylko 4 skupienia ze wszystkich obiektów (zmodyfikuj linijkę, w której tworzony jest model). Sprawdź, do jakich skupień zostały przyporządkowane utwory z wybranego gatunku."
   ]
  },
  {
   "cell_type": "code",
   "execution_count": 44,
   "metadata": {},
   "outputs": [
    {
     "name": "stdout",
     "output_type": "stream",
     "text": [
      "['Hip-Hop' 'Pop' 'Folk' 'Jazz' 'Rock' 'Electronic' 'International' 'Blues'\n",
      " 'Classical' 'Old-Time / Historic' 'Instrumental' 'Experimental']\n",
      "(9354, 2)\n"
     ]
    },
    {
     "data": {
      "image/png": "[encoded data removed]",
      "text/plain": [
       "<Figure size 1152x576 with 1 Axes>"
      ]
     },
     "metadata": {
      "needs_background": "light"
     },
     "output_type": "display_data"
    },
    {
     "data": {
      "text/plain": [
       "array([0, 1, 2, 3], dtype=int64)"
      ]
     },
     "execution_count": 44,
     "metadata": {},
     "output_type": "execute_result"
    }
   ],
   "source": [
    "#dla ułatwienia wyświetlamy listę gatunków muzycznych, które są w bazie - wybierz jeden spośród nich\n",
    "print(all_data_df[\"genre_top\"].unique())\n",
    "\n",
    "model = AgglomerativeClustering(distance_threshold=0, n_clusters=None, affinity='euclidean', linkage='ward')\n",
    "#affinity - metryka, króra będzie użyta do obliczenia odległości między obiektami\n",
    "#distance_threshold=0, n_clusters=None zapewniają podział do momentu, aż w każdym skupieniu będzie znajdował się \n",
    "#tylko 1 obiekt\n",
    "#linkage - metoda tworzenia skupień\n",
    "\n",
    "fig = plt.figure(figsize = (16,8))\n",
    "ax = fig.add_subplot(1,1,1) \n",
    "model = model.fit(scaled_feats)\n",
    "ax.set_title(\"Dendrogram\")\n",
    "\n",
    "# wyświetlimy trzy poziomy dendrogramu\n",
    "dn = plot_dendrogram(model, truncate_mode=\"level\", p=1, labels=all_data_df['genre_numeric_label']) \n",
    "#p - liczba poziomów, na które będą podzielone dane na wyświetlanym wykresie\n",
    "\n",
    "ax.set_xlabel(\"Liczba obiektów w skupieniu (lub indeks obiektu, jeżeli wartość nie jest podana w nawiasach).\")\n",
    "plt.show()\n",
    "\n",
    "model = AgglomerativeClustering(n_clusters=4, affinity='euclidean') \n",
    "#n_clusters - liczba skupień, na które chcemy podzielić dane\n",
    "\n",
    "clusters = model.fit_predict(scaled_feats)\n",
    "\n",
    "dendrogram_clusters_df = pd.DataFrame()\n",
    "dendrogram_clusters_df['track_id'] = all_data_df[\"track_id\"]\n",
    "dendrogram_clusters_df['real genre'] = all_data_df[\"genre_top\"]\n",
    "dendrogram_clusters_df['dendrogram clusters'] = clusters\n",
    "\n",
    "dendrogram_clusters_df.loc[dendrogram_clusters_df['real genre'] == 'Rock']['dendrogram clusters'].unique()"
   ]
  },
  {
   "cell_type": "markdown",
   "metadata": {},
   "source": [
    "Teraz przeprowadź odwrotną analizę - sprawdź, jakie gatunki zostały przyporządkowane do każdego z 4 skupień. Spróbuj wyznaczyć liczbę utworów każdego gatunku, które zostały przyporządkowane do tych skupień. Czy zostały podzielone mniej więcej równomiernie, czy większość utworów danego gatunku znajduje się w tym samym skupieniu?"
   ]
  },
  {
   "cell_type": "code",
   "execution_count": 45,
   "id": "d3618ab7",
   "metadata": {},
   "outputs": [
    {
     "name": "stdout",
     "output_type": "stream",
     "text": [
      "['Hip-Hop' 'Rock' 'Folk' 'Electronic' 'Jazz' 'Blues' 'Pop'\n",
      " 'Old-Time / Historic' 'International' 'Instrumental' 'Experimental'\n",
      " 'Classical']\n",
      "['Hip-Hop' 'Pop' 'Folk' 'Jazz' 'Rock' 'Electronic' 'International' 'Blues'\n",
      " 'Old-Time / Historic' 'Classical' 'Instrumental' 'Experimental']\n",
      "['Folk' 'Rock' 'Pop' 'Jazz' 'Electronic' 'Hip-Hop' 'Blues' 'International'\n",
      " 'Classical' 'Old-Time / Historic' 'Instrumental' 'Experimental']\n",
      "['Rock' 'Folk' 'Electronic' 'Pop' 'Jazz' 'Hip-Hop' 'Old-Time / Historic'\n",
      " 'International' 'Classical' 'Instrumental' 'Blues']\n"
     ]
    },
    {
     "data": {
      "text/plain": [
       "[None, None, None, None]"
      ]
     },
     "execution_count": 45,
     "metadata": {},
     "output_type": "execute_result"
    }
   ],
   "source": [
    "[print(dendrogram_clusters_df.loc[dendrogram_clusters_df['dendrogram clusters']==x]['real genre'].unique()) for x in dendrogram_clusters_df['dendrogram clusters'].unique()]"
   ]
  },
  {
   "cell_type": "code",
   "execution_count": null,
   "metadata": {},
   "outputs": [],
   "source": []
  },
  {
   "cell_type": "markdown",
   "metadata": {},
   "source": [
    "Sprawdź, jak na wyniki wpłynie zmiana metryki odległości na inną niż euklidesowa i zmiana metody tworzenia skupień na inną niż metoda Warda. Do wyboru są:\n",
    "- metryki (affinity): “euclidean”, “l1”, “l2”, “manhattan”, “cosine”\n",
    "- metody (linkage): ‘ward’, ‘complete’, ‘average’, ‘single’\n",
    "\n",
    "Uwaga: używając metody Warda trzeba użyć metryki euklidesowej, inaczej nie zadziała."
   ]
  },
  {
   "cell_type": "code",
   "execution_count": 56,
   "metadata": {},
   "outputs": [
    {
     "name": "stdout",
     "output_type": "stream",
     "text": [
      "(9354, 2)\n"
     ]
    },
    {
     "data": {
      "image/png": "[encoded data removed]",
      "text/plain": [
       "<Figure size 1152x576 with 1 Axes>"
      ]
     },
     "metadata": {
      "needs_background": "light"
     },
     "output_type": "display_data"
    },
    {
     "data": {
      "text/plain": [
       "array([0, 1, 2, 3], dtype=int64)"
      ]
     },
     "execution_count": 56,
     "metadata": {},
     "output_type": "execute_result"
    }
   ],
   "source": [
    "model = AgglomerativeClustering(distance_threshold=0, n_clusters=None, affinity='euclidean', linkage='complete')\n",
    "#affinity - metryka, króra będzie użyta do obliczenia odległości między obiektami\n",
    "#distance_threshold=0, n_clusters=None zapewniają podział do momentu, aż w każdym skupieniu będzie znajdował się \n",
    "#tylko 1 obiekt\n",
    "#linkage - metoda tworzenia skupień\n",
    "\n",
    "fig = plt.figure(figsize = (16,8))\n",
    "ax = fig.add_subplot(1,1,1) \n",
    "model = model.fit(scaled_feats)\n",
    "ax.set_title(\"Dendrogram\")\n",
    "\n",
    "# wyświetlimy trzy poziomy dendrogramu\n",
    "dn = plot_dendrogram(model, truncate_mode=\"level\", p=1, labels=all_data_df['genre_numeric_label']) \n",
    "#p - liczba poziomów, na które będą podzielone dane na wyświetlanym wykresie\n",
    "\n",
    "ax.set_xlabel(\"Liczba obiektów w skupieniu (lub indeks obiektu, jeżeli wartość nie jest podana w nawiasach).\")\n",
    "plt.show()\n",
    "\n",
    "model = AgglomerativeClustering(n_clusters=4, affinity='euclidean') \n",
    "#n_clusters - liczba skupień, na które chcemy podzielić dane\n",
    "\n",
    "clusters = model.fit_predict(scaled_feats)\n",
    "\n",
    "dendrogram_clusters_df = pd.DataFrame()\n",
    "dendrogram_clusters_df['track_id'] = all_data_df[\"track_id\"]\n",
    "dendrogram_clusters_df['real genre'] = all_data_df[\"genre_top\"]\n",
    "dendrogram_clusters_df['dendrogram clusters'] = clusters\n",
    "\n",
    "dendrogram_clusters_df.loc[dendrogram_clusters_df['real genre'] == 'Rock']['dendrogram clusters'].unique()"
   ]
  },
  {
   "cell_type": "code",
   "execution_count": 57,
   "id": "b4c5884c",
   "metadata": {},
   "outputs": [
    {
     "name": "stdout",
     "output_type": "stream",
     "text": [
      "['Hip-Hop' 'Rock' 'Folk' 'Electronic' 'Jazz' 'Blues' 'Pop'\n",
      " 'Old-Time / Historic' 'International' 'Instrumental' 'Experimental'\n",
      " 'Classical']\n",
      "['Hip-Hop' 'Pop' 'Folk' 'Jazz' 'Rock' 'Electronic' 'International' 'Blues'\n",
      " 'Old-Time / Historic' 'Classical' 'Instrumental' 'Experimental']\n",
      "['Folk' 'Rock' 'Pop' 'Jazz' 'Electronic' 'Hip-Hop' 'Blues' 'International'\n",
      " 'Classical' 'Old-Time / Historic' 'Instrumental' 'Experimental']\n",
      "['Rock' 'Folk' 'Electronic' 'Pop' 'Jazz' 'Hip-Hop' 'Old-Time / Historic'\n",
      " 'International' 'Classical' 'Instrumental' 'Blues']\n"
     ]
    },
    {
     "data": {
      "text/plain": [
       "[None, None, None, None]"
      ]
     },
     "execution_count": 57,
     "metadata": {},
     "output_type": "execute_result"
    }
   ],
   "source": [
    "[print(dendrogram_clusters_df.loc[dendrogram_clusters_df['dendrogram clusters']==x]['real genre'].unique()) for x in dendrogram_clusters_df['dendrogram clusters'].unique()]"
   ]
  }
 ],
 "metadata": {
  "kernelspec": {
   "display_name": "Python 3.10.2 64-bit",
   "language": "python",
   "name": "python3"
  },
  "language_info": {
   "codemirror_mode": {
    "name": "ipython",
    "version": 3
   },
   "file_extension": ".py",
   "mimetype": "text/x-python",
   "name": "python",
   "nbconvert_exporter": "python",
   "pygments_lexer": "ipython3",
   "version": "3.10.2"
  },
  "vscode": {
   "interpreter": {
    "hash": "f0cf854484826becf69b9363a35f769a3f32573db803431254cc95fc20fb81b2"
   }
  }
 },
 "nbformat": 4,
 "nbformat_minor": 5
}
